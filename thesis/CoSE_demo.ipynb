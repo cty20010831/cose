{
 "cells": [
  {
   "cell_type": "markdown",
   "metadata": {},
   "source": [
    "This notebook serves as a demo notebook detailing the full analysis pipeline for deriving flexibility metrics from the incomplete shape drawing task using the CoSE model, alongside a sample (sequential) pass to all the five signatures of the CoSE model. It uses drawings of cats from the QuickDraw dataset for demonstration purpose. "
   ]
  },
  {
   "cell_type": "markdown",
   "metadata": {},
   "source": [
    "# Import modules"
   ]
  },
  {
   "cell_type": "code",
   "execution_count": 2,
   "metadata": {},
   "outputs": [],
   "source": [
    "import tensorflow as tf\n",
    "import pandas as pd\n",
    "import numpy as np\n",
    "import json\n",
    "import os\n",
    "import linecache"
   ]
  },
  {
   "cell_type": "markdown",
   "metadata": {},
   "source": [
    "# Get model architecture"
   ]
  },
  {
   "cell_type": "code",
   "execution_count": 3,
   "metadata": {},
   "outputs": [],
   "source": [
    "model_signature_directory = '../thesis/model_architecture.csv'\n",
    "model = tf.saved_model.load(\"../pretrained_model/saved_model_with_signatures\")\n",
    "\n",
    "if not os.path.exists(model_signature_directory):\n",
    "    # Collecting signature details\n",
    "    signatures_data = []\n",
    "\n",
    "    # Iterate over each signature in the model\n",
    "    for key, signature in model.signatures.items():\n",
    "        # Initialize dictionaries for current signature's inputs and outputs\n",
    "        inputs_dict = {}\n",
    "        outputs_dict = {}\n",
    "\n",
    "        # Iterate over inputs and outputs, filling in the dictionaries\n",
    "        for input_key, input_val in signature.structured_input_signature[1].items():\n",
    "            inputs_dict[input_key] = str(input_val.dtype.name)\n",
    "\n",
    "        for output_key, output_val in signature.structured_outputs.items():\n",
    "            outputs_dict[output_key] = str(output_val.dtype.name)\n",
    "\n",
    "        # Append the current signature's details to the list\n",
    "        signatures_data.append({\n",
    "            \"Signature Key\": key,\n",
    "            \"Inputs\": inputs_dict,\n",
    "            \"Outputs\": outputs_dict\n",
    "        })\n",
    "\n",
    "    # Convert list of signature data into a DataFrame for visualization\n",
    "    df_signatures = pd.DataFrame(signatures_data)\n",
    "\n",
    "    df_inputs = df_signatures[\"Inputs\"].apply(pd.Series)\n",
    "    df_outputs = df_signatures[\"Outputs\"].apply(pd.Series)\n",
    "    df_signatures = pd.concat([df_signatures.drop(['Inputs', 'Outputs'], axis=1), df_inputs, df_outputs], axis=1)\n",
    "    df_signatures.set_index('Signature Key', drop=True, inplace=True)\n",
    "    df_signatures.to_csv(model_signature_directory, index=True)\n",
    "else:\n",
    "    df_signatures = pd.read_csv(model_signature_directory, index_col='Signature Key')"
   ]
  },
  {
   "cell_type": "code",
   "execution_count": 4,
   "metadata": {},
   "outputs": [
    {
     "data": {
      "text/html": [
       "<div>\n",
       "<style scoped>\n",
       "    .dataframe tbody tr th:only-of-type {\n",
       "        vertical-align: middle;\n",
       "    }\n",
       "\n",
       "    .dataframe tbody tr th {\n",
       "        vertical-align: top;\n",
       "    }\n",
       "\n",
       "    .dataframe thead th {\n",
       "        text-align: right;\n",
       "    }\n",
       "</style>\n",
       "<table border=\"1\" class=\"dataframe\">\n",
       "  <thead>\n",
       "    <tr style=\"text-align: right;\">\n",
       "      <th></th>\n",
       "      <th>target_seq_len</th>\n",
       "      <th>embedding_sample</th>\n",
       "      <th>target_pos</th>\n",
       "      <th>inp_embeddings</th>\n",
       "      <th>inp_pos</th>\n",
       "      <th>input_stroke</th>\n",
       "      <th>input_seq_len</th>\n",
       "      <th>pen</th>\n",
       "      <th>seq_len</th>\n",
       "      <th>stroke</th>\n",
       "      <th>embedding_sample.1</th>\n",
       "      <th>sigma</th>\n",
       "      <th>mu</th>\n",
       "      <th>pi</th>\n",
       "      <th>position_sample</th>\n",
       "    </tr>\n",
       "    <tr>\n",
       "      <th>Signature Key</th>\n",
       "      <th></th>\n",
       "      <th></th>\n",
       "      <th></th>\n",
       "      <th></th>\n",
       "      <th></th>\n",
       "      <th></th>\n",
       "      <th></th>\n",
       "      <th></th>\n",
       "      <th></th>\n",
       "      <th></th>\n",
       "      <th></th>\n",
       "      <th></th>\n",
       "      <th></th>\n",
       "      <th></th>\n",
       "      <th></th>\n",
       "    </tr>\n",
       "  </thead>\n",
       "  <tbody>\n",
       "    <tr>\n",
       "      <th>decode_stroke</th>\n",
       "      <td>int32</td>\n",
       "      <td>float32</td>\n",
       "      <td>NaN</td>\n",
       "      <td>NaN</td>\n",
       "      <td>NaN</td>\n",
       "      <td>NaN</td>\n",
       "      <td>NaN</td>\n",
       "      <td>float32</td>\n",
       "      <td>int32</td>\n",
       "      <td>float32</td>\n",
       "      <td>NaN</td>\n",
       "      <td>NaN</td>\n",
       "      <td>NaN</td>\n",
       "      <td>NaN</td>\n",
       "      <td>NaN</td>\n",
       "    </tr>\n",
       "    <tr>\n",
       "      <th>predict_embedding</th>\n",
       "      <td>NaN</td>\n",
       "      <td>NaN</td>\n",
       "      <td>float32</td>\n",
       "      <td>float32</td>\n",
       "      <td>float32</td>\n",
       "      <td>NaN</td>\n",
       "      <td>NaN</td>\n",
       "      <td>NaN</td>\n",
       "      <td>NaN</td>\n",
       "      <td>NaN</td>\n",
       "      <td>float32</td>\n",
       "      <td>float32</td>\n",
       "      <td>float32</td>\n",
       "      <td>float32</td>\n",
       "      <td>NaN</td>\n",
       "    </tr>\n",
       "    <tr>\n",
       "      <th>predict_position</th>\n",
       "      <td>NaN</td>\n",
       "      <td>NaN</td>\n",
       "      <td>NaN</td>\n",
       "      <td>float32</td>\n",
       "      <td>float32</td>\n",
       "      <td>NaN</td>\n",
       "      <td>NaN</td>\n",
       "      <td>NaN</td>\n",
       "      <td>NaN</td>\n",
       "      <td>NaN</td>\n",
       "      <td>NaN</td>\n",
       "      <td>float32</td>\n",
       "      <td>float32</td>\n",
       "      <td>float32</td>\n",
       "      <td>float32</td>\n",
       "    </tr>\n",
       "    <tr>\n",
       "      <th>encode_stroke</th>\n",
       "      <td>NaN</td>\n",
       "      <td>NaN</td>\n",
       "      <td>NaN</td>\n",
       "      <td>NaN</td>\n",
       "      <td>NaN</td>\n",
       "      <td>float32</td>\n",
       "      <td>int32</td>\n",
       "      <td>NaN</td>\n",
       "      <td>NaN</td>\n",
       "      <td>NaN</td>\n",
       "      <td>float32</td>\n",
       "      <td>NaN</td>\n",
       "      <td>NaN</td>\n",
       "      <td>NaN</td>\n",
       "      <td>NaN</td>\n",
       "    </tr>\n",
       "    <tr>\n",
       "      <th>forward_pass</th>\n",
       "      <td>int32</td>\n",
       "      <td>NaN</td>\n",
       "      <td>NaN</td>\n",
       "      <td>NaN</td>\n",
       "      <td>NaN</td>\n",
       "      <td>float32</td>\n",
       "      <td>int32</td>\n",
       "      <td>float32</td>\n",
       "      <td>int32</td>\n",
       "      <td>float32</td>\n",
       "      <td>float32</td>\n",
       "      <td>NaN</td>\n",
       "      <td>NaN</td>\n",
       "      <td>NaN</td>\n",
       "      <td>NaN</td>\n",
       "    </tr>\n",
       "  </tbody>\n",
       "</table>\n",
       "</div>"
      ],
      "text/plain": [
       "                  target_seq_len embedding_sample target_pos inp_embeddings  \\\n",
       "Signature Key                                                                 \n",
       "decode_stroke              int32          float32        NaN            NaN   \n",
       "predict_embedding            NaN              NaN    float32        float32   \n",
       "predict_position             NaN              NaN        NaN        float32   \n",
       "encode_stroke                NaN              NaN        NaN            NaN   \n",
       "forward_pass               int32              NaN        NaN            NaN   \n",
       "\n",
       "                   inp_pos input_stroke input_seq_len      pen seq_len  \\\n",
       "Signature Key                                                            \n",
       "decode_stroke          NaN          NaN           NaN  float32   int32   \n",
       "predict_embedding  float32          NaN           NaN      NaN     NaN   \n",
       "predict_position   float32          NaN           NaN      NaN     NaN   \n",
       "encode_stroke          NaN      float32         int32      NaN     NaN   \n",
       "forward_pass           NaN      float32         int32  float32   int32   \n",
       "\n",
       "                    stroke embedding_sample.1    sigma       mu       pi  \\\n",
       "Signature Key                                                              \n",
       "decode_stroke      float32                NaN      NaN      NaN      NaN   \n",
       "predict_embedding      NaN            float32  float32  float32  float32   \n",
       "predict_position       NaN                NaN  float32  float32  float32   \n",
       "encode_stroke          NaN            float32      NaN      NaN      NaN   \n",
       "forward_pass       float32            float32      NaN      NaN      NaN   \n",
       "\n",
       "                  position_sample  \n",
       "Signature Key                      \n",
       "decode_stroke                 NaN  \n",
       "predict_embedding             NaN  \n",
       "predict_position          float32  \n",
       "encode_stroke                 NaN  \n",
       "forward_pass                  NaN  "
      ]
     },
     "execution_count": 4,
     "metadata": {},
     "output_type": "execute_result"
    }
   ],
   "source": [
    "df_signatures"
   ]
  },
  {
   "cell_type": "markdown",
   "metadata": {},
   "source": [
    "# Preprocess drawings"
   ]
  },
  {
   "cell_type": "markdown",
   "metadata": {},
   "source": [
    "## Visualize sample drawing (first row)"
   ]
  },
  {
   "cell_type": "code",
   "execution_count": 5,
   "metadata": {},
   "outputs": [
    {
     "name": "stdout",
     "output_type": "stream",
     "text": [
      "before [[[414.48199462890625, 410.364013671875, 403.54901123046875, 395.802001953125, 389.87298583984375, 384.35699462890625, 373.40399169921875, 365.4259948730469, 357.45001220703125, 352.2409973144531, 342.8789978027344, 339.5119934082031, 339.9620056152344, 343.1789855957031, 346.9419860839844, 350.7340087890625, 357.48699951171875, 359.8890075683594, 362.3299865722656, 364.322998046875, 364.677001953125, 350.593994140625, 341.8160095214844, 319.9540100097656, 311.177001953125, 297.6260070800781, 284.0320129394531, 261.2560119628906, 251.906005859375, 239.7209930419922, 229.60000610351562, 218.16600036621094, 214.43099975585938, 212.5449981689453, 212.56300354003906, 219.68299865722656, 230.177001953125, 242.10000610351562, 273.4639892578125, 285.5740051269531, 308.1730041503906, 329.3689880371094, 373.6130065917969, 420.0690002441406, 446.9949951171875, 472.5610046386719, 513.7899780273438, 551.1010131835938, 584.2059936523438, 595.7969970703125, 609.0369873046875, 621.2379760742188, 626.7639770507812, 629.3709716796875, 625.0850219726562, 622.6699829101562, 613.1729736328125, 605.6810302734375, 585.3709716796875, 577.3250122070312, 565.7960205078125, 559.9920043945312, 554.8079833984375, 552.3099975585938, 552.3099975585938, 552.3099975585938, 550.9249877929688, 551.3109741210938, 550.2349853515625, 547.5390014648438, 546.9240112304688, 543.5150146484375, 541.114990234375, 537.1749877929688, 535.5499877929688, 533.8209838867188, 532.22998046875, 529.5570068359375, 527.5700073242188, 523.3060302734375, 516.4240112304688, 510.0450134277344, 506.3210144042969, 501.35400390625, 494.45001220703125, 487.8240051269531, 484.8190002441406, 483.614013671875, 483.02899169921875, 483.39599609375, 483.39599609375, 483.39599609375, 476.45599365234375, 464.5559997558594, 455.1610107421875, 449.2489929199219, 442.28399658203125, 437.3559875488281, 431.27801513671875, 421.7569885253906, 419.1809997558594], [437.51300048828125, 433.39300537109375, 419.63299560546875, 402.7460021972656, 391.2690124511719, 380.2330017089844, 361.09698486328125, 349.9049987792969, 343.4840087890625, 339.3169860839844, 332.6719970703125, 327.4729919433594, 338.2959899902344, 364.52398681640625, 375.8739929199219, 395.4079895019531, 424.1929931640625, 432.8710021972656, 445.4200134277344, 451.2249755859375, 455.7650146484375, 456.49798583984375, 456.49798583984375, 457.25799560546875, 457.885009765625, 458.85400390625, 460.82098388671875, 472.33599853515625, 477.947998046875, 492.448974609375, 508.38299560546875, 543.39501953125, 556.4739990234375, 576.3300170898438, 590.6389770507812, 633.7990112304688, 654.0430297851562, 667.6599731445312, 693.1669921875, 702.2540283203125, 712.9660034179688, 717.823974609375, 723.7429809570312, 725.6740112304688, 722.8800048828125, 718.27001953125, 701.489013671875, 675.7860107421875, 646.4140014648438, 634.8170166015625, 616.0289916992188, 584.3629760742188, 558.0659790039062, 541.8729858398438, 506.49298095703125, 498.03497314453125, 486.88299560546875, 478.572021484375, 465.1619873046875, 460.8270263671875, 455.2509765625, 452.91900634765625, 450.75299072265625, 445.7279968261719, 439.8789978027344, 431.56201171875, 423.822998046875, 413.5409851074219, 402.53900146484375, 384.1210021972656, 370.072998046875, 357.8139953613281, 345.54400634765625, 325.8330078125, 307.9809875488281, 294.5350036621094, 282.8450012207031, 265.5690002441406, 260.9549865722656, 265.72698974609375, 278.11199951171875, 292.64801025390625, 305.75299072265625, 316.65301513671875, 337.38800048828125, 365.39898681640625, 386.0050048828125, 393.23699951171875, 402.21600341796875, 406.77899169921875, 412.8800048828125, 419.5320129394531, 422.91400146484375, 426.67999267578125, 429.13800048828125, 431.5889892578125, 432.5169982910156, 432.5169982910156, 432.5169982910156, 432.5169982910156, 432.5169982910156], [0, 120, 154, 172, 188, 243, 253, 260, 269, 284, 342, 380, 517, 528, 547, 590, 600, 614, 649, 667, 697, 845, 861, 918, 926, 932, 943, 997, 1004, 1011, 1025, 1060, 1085, 1092, 1142, 1169, 1178, 1192, 1237, 1245, 1255, 1275, 1338, 1345, 1355, 1376, 1433, 1441, 1473, 1493, 1539, 1547, 1571, 1633, 1640, 1651, 1675, 1714, 1724, 1733, 1750, 1769, 1808, 1904, 1998, 2051, 2063, 2081, 2096, 2132, 2146, 2180, 2216, 2223, 2233, 2244, 2263, 2309, 2317, 2429, 2459, 2483, 2495, 2507, 2565, 2584, 2607, 2629, 2664, 2678, 2690, 2765, 2872, 2886, 2905, 2927, 2976, 2988, 3002, 3057, 3095]], [[281.64801025390625, 260.80499267578125, 239.9600067138672, 201.61599731445312, 180.84300231933594, 164.822998046875, 150.99899291992188, 127.91400146484375, 119.14399719238281, 112.14800262451172, 112.14800262451172], [594.3900146484375, 588.6209716796875, 585.2739868164062, 579.8109741210938, 577.239013671875, 574.6599731445312, 574.3610229492188, 573.406982421875, 573.406982421875, 574.7069702148438, 574.7069702148438], [3410, 3494, 3521, 3534, 3546, 3561, 3604, 3615, 3626, 3643, 3660]], [[281.64801025390625, 277.489990234375, 258.2489929199219, 234.44000244140625, 196.39999389648438, 171.73500061035156, 151.9409942626953, 132.43699645996094, 108.43800354003906, 99.14199829101562, 95.66000366210938], [653.343994140625, 653.343994140625, 653.343994140625, 654.4310302734375, 657.1240234375, 661.8839721679688, 664.2319946289062, 671.030029296875, 680.0590209960938, 687.0789794921875, 689.7960205078125], [3885, 3957, 3974, 4007, 4023, 4038, 4055, 4097, 4105, 4122, 4156]], [[309.6130065917969, 290.6719970703125, 266.4119873046875, 239.18600463867188, 223.16299438476562, 202.15699768066406, 192.0489959716797, 185.75900268554688, 185.75900268554688], [690.3150024414062, 702.97900390625, 712.8359985351562, 722.4439697265625, 731.56201171875, 746.9229736328125, 756.1900024414062, 763.2670288085938, 763.2670288085938], [4333, 4438, 4451, 4476, 4486, 4530, 4537, 4549, 4560]], [[522.3469848632812, 536.7020263671875, 566.8049926757812, 598.4940185546875, 618.8040161132812, 638.5170288085938, 673.02001953125, 690.9010009765625, 700.2849731445312, 706.2839965820312, 711.7570190429688, 711.7570190429688], [590.3930053710938, 587.3380126953125, 584.6240234375, 584.010986328125, 585.6119995117188, 586.4089965820312, 590.5770263671875, 593.5560302734375, 594.8410034179688, 598.4609985351562, 602.6190185546875, 602.6190185546875], [4832, 4909, 4934, 4944, 4996, 5003, 5011, 5026, 5043, 5081, 5097, 5110]], [[525.343017578125, 540.3729858398438, 561.6240234375, 613.9310302734375, 634.97900390625, 692.031982421875, 715.7509765625, 722.0360107421875, 722.2919921875], [623.3679809570312, 630.833984375, 637.4149780273438, 650.333984375, 655.4390258789062, 666.281982421875, 670.8599853515625, 672.1170043945312, 672.7269897460938], [5286, 5361, 5374, 5408, 5454, 5464, 5492, 5512, 5566]], [[515.3560180664062, 523.5960083007812, 558.22998046875, 605.5360107421875, 612.3259887695312, 619.1890258789062, 622.7750244140625, 623.6900024414062, 624.2849731445312], [664.3359985351562, 670.2239990234375, 701.656982421875, 746.3590087890625, 753.3569946289062, 763.0070190429688, 768.583984375, 773.6610107421875, 776.510986328125], [5719, 5790, 5867, 5876, 5887, 5923, 5933, 5950, 5998]], [[415.4809875488281, 396.4200134277344, 377.88800048828125, 364.5719909667969, 362.1650085449219, 362.5469970703125, 363.7929992675781, 368.7650146484375, 379.625, 393.17999267578125, 412.1809997558594, 426.7720031738281, 433.5350036621094, 438.68798828125, 439.83599853515625, 439.45098876953125, 436.8940124511719, 430.989013671875, 420.39599609375, 410.9110107421875, 404.1889953613281, 397.7239990234375, 390.5299987792969, 387.885009765625], [577.4039916992188, 583.572021484375, 587.9580078125, 590.1389770507812, 598.9180297851562, 605.7869873046875, 610.8619995117188, 615.6439819335938, 620.9190063476562, 624.9229736328125, 625.4240112304688, 623.9760131835938, 621.5999755859375, 615.0579833984375, 609.8350219726562, 600.2620239257812, 594.4310302734375, 588.843017578125, 585.2429809570312, 582.2080078125, 580.823974609375, 580.3040161132812, 579.4019775390625, 579.4019775390625], [6231, 6335, 6349, 6363, 6411, 6429, 6443, 6461, 6494, 6531, 6543, 6576, 6592, 6627, 6660, 6673, 6690, 6712, 6738, 6759, 6773, 6791, 6821, 6873]], [[359.5509948730469, 358.4159851074219, 357.81500244140625, 357.16400146484375], [496.46697998046875, 506.68402099609375, 529.7639770507812, 538.8829956054688], [7177, 7283, 7317, 7332]]]\n",
      "after [<zip object at 0x3a586e8c0>, <zip object at 0x3a586e580>, <zip object at 0x3a586e9c0>, <zip object at 0x3a586ea40>, <zip object at 0x3a586eec0>, <zip object at 0x3a586ee40>, <zip object at 0x3a586ee80>, <zip object at 0x3a586efc0>, <zip object at 0x3a586ef40>]\n"
     ]
    },
    {
     "data": {
      "image/jpeg": "[encoded data removed]",
      "image/png": "[encoded data removed]",
      "text/plain": [
       "<PIL.Image.Image image mode=RGB size=1000x1000>"
      ]
     },
     "metadata": {},
     "output_type": "display_data"
    }
   ],
   "source": [
    "import json\n",
    "from PIL import Image, ImageDraw\n",
    "from IPython.display import display  \n",
    "\n",
    "# read ndjson lines\n",
    "lines = open('data/raw_cat.ndjson','r').readlines()\n",
    "# grab the first line, JSON parse it and fetch the 'drawing' array\n",
    "raw_drawing = json.loads(lines[0])['drawing']\n",
    "\n",
    "print('before',raw_drawing)\n",
    "# zip x,y coordinates for each point in every polyline\n",
    "polylines = list((zip(polyline[0], polyline[1]) for polyline in raw_drawing))\n",
    "# notice how the data is shuffled to (x1,y1),(x2,y2) order\n",
    "print('after',polylines)\n",
    "\n",
    "# make a new image\n",
    "pil_img = Image.new(\"RGB\", (1000, 1000), (255,255,255))\n",
    "# get a drawing context\n",
    "d = ImageDraw.Draw(pil_img)\n",
    "# render each polyline\n",
    "for polyline in polylines:\n",
    "    # Flatten the list of tuples into a single list of coordinates\n",
    "    polyline_flat = [coord for point in polyline for coord in point]\n",
    "    d.line(polyline_flat,fill=(0, 0, 0), width=3)\n",
    "\n",
    "# display image\n",
    "display(pil_img)"
   ]
  },
  {
   "cell_type": "markdown",
   "metadata": {},
   "source": [
    "## Parse preprocessed drawings into TFRecord"
   ]
  },
  {
   "cell_type": "markdown",
   "metadata": {},
   "source": [
    "Type the following in the terminal to convert raw ndjson file to TFRecord \n",
    "```bash\n",
    "python data_preprocessing.py --data_dir data --mode test --num_shards 1\n",
    "``` "
   ]
  },
  {
   "cell_type": "code",
   "execution_count": 6,
   "metadata": {},
   "outputs": [],
   "source": [
    "def _parse_function(example_proto):\n",
    "     # Define the feature structure of TF_example\n",
    "    feature_description = {\n",
    "        'key': tf.io.FixedLenFeature([], tf.string),\n",
    "        'label_id': tf.io.FixedLenFeature([], tf.string),\n",
    "        'ink': tf.io.VarLenFeature(tf.float32),\n",
    "        'stroke_length': tf.io.VarLenFeature(tf.int64),\n",
    "        'shape': tf.io.FixedLenFeature([3], tf.int64),\n",
    "        'num_strokes': tf.io.FixedLenFeature([], tf.int64)\n",
    "    }\n",
    "\n",
    "    # Parse the input tf.train.Example proto based on feature_description\n",
    "    return tf.io.parse_single_example(example_proto, feature_description)"
   ]
  },
  {
   "cell_type": "code",
   "execution_count": 7,
   "metadata": {},
   "outputs": [
    {
     "data": {
      "text/plain": [
       "<_MapDataset element_spec={'ink': SparseTensorSpec(TensorShape([None]), tf.float32), 'stroke_length': SparseTensorSpec(TensorShape([None]), tf.int64), 'key': TensorSpec(shape=(), dtype=tf.string, name=None), 'label_id': TensorSpec(shape=(), dtype=tf.string, name=None), 'num_strokes': TensorSpec(shape=(), dtype=tf.int64, name=None), 'shape': TensorSpec(shape=(3,), dtype=tf.int64, name=None)}>"
      ]
     },
     "execution_count": 7,
     "metadata": {},
     "output_type": "execute_result"
    }
   ],
   "source": [
    "tfrecord_path = 'data/raw_cat-00000-of-00001.tfrecord'\n",
    "raw_drawing_dataset = tf.data.TFRecordDataset(tfrecord_path)\n",
    "parsed_drawing_dataset = raw_drawing_dataset.map(_parse_function)\n",
    "\n",
    "parsed_drawing_dataset"
   ]
  },
  {
   "cell_type": "code",
   "execution_count": 12,
   "metadata": {},
   "outputs": [
    {
     "name": "stdout",
     "output_type": "stream",
     "text": [
      "Drawing:  tf.Tensor(\n",
      "[-0.03286448 -0.5109423   0.         ...  0.          0.\n",
      "  0.        ], shape=(5400,), dtype=float32)\n",
      "Shape of Drawing:  tf.Tensor([  9 150   4], shape=(3,), dtype=int64)\n",
      "Stroke length:  tf.Tensor([150  10  11   8  12  12  12  28   4], shape=(9,), dtype=int64)\n"
     ]
    }
   ],
   "source": [
    "# In this code, I just sample the first record\n",
    "for parsed_features in parsed_drawing_dataset.take(1):\n",
    "    print(\"Drawing: \", ink)\n",
    "    shape = parsed_features['shape']\n",
    "    print(\"Shape of Drawing: \", shape)\n",
    "    stroke_length = tf.sparse.to_dense(parsed_features['stroke_length'])\n",
    "    print(\"Stroke length: \", stroke_length)\n",
    "    \n",
    "    # Reshape ink data to original dimensions (num_strokes, max_len, 4)\n",
    "    reshaped_ink = tf.reshape(ink, shape)"
   ]
  },
  {
   "cell_type": "markdown",
   "metadata": {},
   "source": [
    "## Undo preprocessing and do visualization again"
   ]
  },
  {
   "cell_type": "code",
   "execution_count": 9,
   "metadata": {},
   "outputs": [],
   "source": [
    "from undo_data_preprocessing import undo_preprocessing\n",
    "\n",
    "lines = open('data/raw_cat.ndjson','r').readlines()\n",
    "statistics_json_path = \"data/cat_statistics.json\"\n",
    "reversed_strokes = undo_preprocessing(reshaped_ink, stroke_length, raw_drawing, statistics_json_path)"
   ]
  },
  {
   "cell_type": "code",
   "execution_count": 10,
   "metadata": {},
   "outputs": [
    {
     "data": {
      "image/jpeg": "[encoded data removed]",
      "image/png": "[encoded data removed]",
      "text/plain": [
       "<PIL.Image.Image image mode=RGB size=1000x1000>"
      ]
     },
     "metadata": {},
     "output_type": "display_data"
    }
   ],
   "source": [
    "from stroke_visualization import visualize_stroke\n",
    "visualize_stroke(reversed_strokes)"
   ]
  },
  {
   "cell_type": "markdown",
   "metadata": {},
   "source": [
    "# Operationalize flexibility"
   ]
  },
  {
   "cell_type": "code",
   "execution_count": null,
   "metadata": {},
   "outputs": [],
   "source": [
    "tf.expand_dims(reshaped_ink[:1, 0, :2], axis=0)\n",
    "tf.expand_dims(encoded_embedding_sample[:, :], axis=0)"
   ]
  },
  {
   "cell_type": "code",
   "execution_count": 13,
   "metadata": {},
   "outputs": [
    {
     "name": "stdout",
     "output_type": "stream",
     "text": [
      "DEBUG: reshaped_ink shape: (9, 150, 4)\n",
      "DEBUG: stroke_length shape: (9,)\n",
      "DEBUG: input_stroke shape (gathered from reshaped_ink): (9, 150, 3)\n",
      "DEBUG: encoded_embedding_sample shape: (9, 8)\n",
      "DEBUG: For stroke 0: input_position shape: (1, 1, 2), input_embedding shape: (1, 1, 8)\n",
      "DEBUG: For stroke 0: predict_position_result['position_sample'] shape: (1, 2)\n",
      "DEBUG: For stroke 0: target_pos shape (after expand_dims): (1, 1, 2)\n",
      "DEBUG: For stroke 0: predict_embedding_result[pi] shape: (1, 10)\n",
      "DEBUG: For stroke 0: predict_embedding_result[sigma] shape: (1, 1, 10, 8)\n",
      "DEBUG: For stroke 0: predict_embedding_result[embedding_sample] shape: (1, 8)\n",
      "DEBUG: For stroke 0: predict_embedding_result[mu] shape: (1, 1, 10, 8)\n",
      "DEBUG: For stroke 1: input_position shape: (1, 2, 2), input_embedding shape: (1, 2, 8)\n",
      "DEBUG: For stroke 1: predict_position_result['position_sample'] shape: (1, 2)\n",
      "DEBUG: For stroke 1: target_pos shape (after expand_dims): (1, 1, 2)\n",
      "DEBUG: For stroke 1: predict_embedding_result[pi] shape: (1, 10)\n",
      "DEBUG: For stroke 1: predict_embedding_result[sigma] shape: (1, 1, 10, 8)\n",
      "DEBUG: For stroke 1: predict_embedding_result[embedding_sample] shape: (1, 8)\n",
      "DEBUG: For stroke 1: predict_embedding_result[mu] shape: (1, 1, 10, 8)\n",
      "DEBUG: For stroke 2: input_position shape: (1, 3, 2), input_embedding shape: (1, 3, 8)\n",
      "DEBUG: For stroke 2: predict_position_result['position_sample'] shape: (1, 2)\n",
      "DEBUG: For stroke 2: target_pos shape (after expand_dims): (1, 1, 2)\n",
      "DEBUG: For stroke 2: predict_embedding_result[pi] shape: (1, 10)\n",
      "DEBUG: For stroke 2: predict_embedding_result[sigma] shape: (1, 1, 10, 8)\n",
      "DEBUG: For stroke 2: predict_embedding_result[embedding_sample] shape: (1, 8)\n",
      "DEBUG: For stroke 2: predict_embedding_result[mu] shape: (1, 1, 10, 8)\n",
      "DEBUG: For stroke 3: input_position shape: (1, 4, 2), input_embedding shape: (1, 4, 8)\n",
      "DEBUG: For stroke 3: predict_position_result['position_sample'] shape: (1, 2)\n",
      "DEBUG: For stroke 3: target_pos shape (after expand_dims): (1, 1, 2)\n",
      "DEBUG: For stroke 3: predict_embedding_result[pi] shape: (1, 10)\n",
      "DEBUG: For stroke 3: predict_embedding_result[sigma] shape: (1, 1, 10, 8)\n",
      "DEBUG: For stroke 3: predict_embedding_result[embedding_sample] shape: (1, 8)\n",
      "DEBUG: For stroke 3: predict_embedding_result[mu] shape: (1, 1, 10, 8)\n",
      "DEBUG: For stroke 4: input_position shape: (1, 5, 2), input_embedding shape: (1, 5, 8)\n",
      "DEBUG: For stroke 4: predict_position_result['position_sample'] shape: (1, 2)\n",
      "DEBUG: For stroke 4: target_pos shape (after expand_dims): (1, 1, 2)\n",
      "DEBUG: For stroke 4: predict_embedding_result[pi] shape: (1, 10)\n",
      "DEBUG: For stroke 4: predict_embedding_result[sigma] shape: (1, 1, 10, 8)\n",
      "DEBUG: For stroke 4: predict_embedding_result[embedding_sample] shape: (1, 8)\n",
      "DEBUG: For stroke 4: predict_embedding_result[mu] shape: (1, 1, 10, 8)\n",
      "DEBUG: For stroke 5: input_position shape: (1, 6, 2), input_embedding shape: (1, 6, 8)\n",
      "DEBUG: For stroke 5: predict_position_result['position_sample'] shape: (1, 2)\n",
      "DEBUG: For stroke 5: target_pos shape (after expand_dims): (1, 1, 2)\n",
      "DEBUG: For stroke 5: predict_embedding_result[pi] shape: (1, 10)\n",
      "DEBUG: For stroke 5: predict_embedding_result[sigma] shape: (1, 1, 10, 8)\n",
      "DEBUG: For stroke 5: predict_embedding_result[embedding_sample] shape: (1, 8)\n",
      "DEBUG: For stroke 5: predict_embedding_result[mu] shape: (1, 1, 10, 8)\n",
      "DEBUG: For stroke 6: input_position shape: (1, 7, 2), input_embedding shape: (1, 7, 8)\n",
      "DEBUG: For stroke 6: predict_position_result['position_sample'] shape: (1, 2)\n",
      "DEBUG: For stroke 6: target_pos shape (after expand_dims): (1, 1, 2)\n",
      "DEBUG: For stroke 6: predict_embedding_result[pi] shape: (1, 10)\n",
      "DEBUG: For stroke 6: predict_embedding_result[sigma] shape: (1, 1, 10, 8)\n",
      "DEBUG: For stroke 6: predict_embedding_result[embedding_sample] shape: (1, 8)\n",
      "DEBUG: For stroke 6: predict_embedding_result[mu] shape: (1, 1, 10, 8)\n",
      "DEBUG: For stroke 7: input_position shape: (1, 8, 2), input_embedding shape: (1, 8, 8)\n",
      "DEBUG: For stroke 7: predict_position_result['position_sample'] shape: (1, 2)\n",
      "DEBUG: For stroke 7: target_pos shape (after expand_dims): (1, 1, 2)\n",
      "DEBUG: For stroke 7: predict_embedding_result[pi] shape: (1, 10)\n",
      "DEBUG: For stroke 7: predict_embedding_result[sigma] shape: (1, 1, 10, 8)\n",
      "DEBUG: For stroke 7: predict_embedding_result[embedding_sample] shape: (1, 8)\n",
      "DEBUG: For stroke 7: predict_embedding_result[mu] shape: (1, 1, 10, 8)\n",
      "DEBUG: For stroke 8: input_position shape: (1, 9, 2), input_embedding shape: (1, 9, 8)\n",
      "DEBUG: For stroke 8: predict_position_result['position_sample'] shape: (1, 2)\n",
      "DEBUG: For stroke 8: target_pos shape (after expand_dims): (1, 1, 2)\n",
      "DEBUG: For stroke 8: predict_embedding_result[pi] shape: (1, 10)\n",
      "DEBUG: For stroke 8: predict_embedding_result[sigma] shape: (1, 1, 10, 8)\n",
      "DEBUG: For stroke 8: predict_embedding_result[embedding_sample] shape: (1, 8)\n",
      "DEBUG: For stroke 8: predict_embedding_result[mu] shape: (1, 1, 10, 8)\n"
     ]
    }
   ],
   "source": [
    "from calculate_flexibility import calculate_flexibility_measures\n",
    "\n",
    "# Calculate flexibility measures\n",
    "flexibility_measures = calculate_flexibility_measures(model, reshaped_ink, stroke_length)"
   ]
  },
  {
   "cell_type": "code",
   "execution_count": 11,
   "metadata": {},
   "outputs": [
    {
     "data": {
      "text/plain": [
       "(array([0.46333414, 0.72995053, 0.74841901, 0.77196435, 0.87418915,\n",
       "        1.01055208, 0.9077462 , 0.86475836, 0.75796414]),\n",
       " array([0.63997991, 0.86512478, 0.81387772, 0.94375045, 1.15344901,\n",
       "        1.37470645, 1.21459139, 1.1398904 , 1.0268435 ]))"
      ]
     },
     "execution_count": 11,
     "metadata": {},
     "output_type": "execute_result"
    }
   ],
   "source": [
    "import numpy as np\n",
    "from scipy.linalg import det, inv\n",
    "from scipy.special import logsumexp\n",
    "import tensorflow as tf\n",
    "\n",
    "def calculate(model, reshaped_ink, stroke_length):\n",
    "    '''\n",
    "    Inputs: \n",
    "        1) model: pre-trained CoSE model\n",
    "        2) reshaped_ink: preprocessed (normalized) ink\n",
    "        3) stroke_length: length for each stroke\n",
    "    '''\n",
    "    \n",
    "    # Load signatures of pre-trained models\n",
    "    encode_stroke = model.signatures[\"encode_stroke\"]\n",
    "    predict_position = model.signatures[\"predict_position\"]\n",
    "    predict_embedding = model.signatures[\"predict_embedding\"]\n",
    "\n",
    "    # Get encoded vectors for each stroke\n",
    "    encoded_result = encode_stroke(\n",
    "        input_seq_len=tf.cast(stroke_length, tf.int32),\n",
    "        input_stroke=tf.gather(reshaped_ink, indices=[0, 1, 3], axis=2) # x coordinate, y coordinate, and pen state\n",
    "    )\n",
    "\n",
    "    encoded_embedding_sample = encoded_result['embedding_sample']\n",
    "\n",
    "    # Iterate through each stroke in the given drawing (ink) to predict the next stroke\n",
    "    n_stroke, _, _ = reshaped_ink.shape\n",
    "\n",
    "    # Initialize an numpy array to store entropy and bhattacharyya distance\n",
    "    entropy_array = np.zeros(n_stroke, dtype=float)\n",
    "    bhattacharyya_distance_array = np.zeros(n_stroke, dtype=float)\n",
    "\n",
    "    for i in range(n_stroke):\n",
    "        # Predict next starting position\n",
    "        input_position = tf.expand_dims(reshaped_ink[:i+1, 0, :2], axis=0)\n",
    "        input_embedding = tf.expand_dims(encoded_embedding_sample[:i+1, :], axis=0)\n",
    "        predict_position_result = predict_position(\n",
    "            inp_pos=input_position,\n",
    "            inp_embeddings=input_embedding\n",
    "        )\n",
    "        \n",
    "        # Predict the embedding of next stroke\n",
    "        predict_embedding_result = predict_embedding(\n",
    "            inp_pos=input_position, \n",
    "            target_pos=tf.expand_dims(predict_position_result['position_sample'], axis=0),\n",
    "            inp_embeddings=input_embedding\n",
    "        )\n",
    "        \n",
    "        # Calculate entropy and bhattacharyya distance\n",
    "        entropy_array[i] = entropy_gmm(predict_embedding_result)\n",
    "        bhattacharyya_distance_array[i] = bhattacharyya_distance(predict_embedding_result)\n",
    "\n",
    "    return entropy_array, bhattacharyya_distance_array\n",
    "\n",
    "\n",
    "def entropy_gmm(predict_result):\n",
    "    pi = predict_result['pi'].numpy().flatten()\n",
    "    mus = predict_result['mu'].numpy().squeeze()\n",
    "    sigmas = [np.diag(sigma) for sigma in predict_result['sigma'].numpy().squeeze()]\n",
    "\n",
    "    N = len(pi)\n",
    "    kl_matrix = np.zeros((N, N))\n",
    "\n",
    "    for i in range(N):\n",
    "        for j in range(N):\n",
    "            diff_mu = mus[j] - mus[i]\n",
    "            inv_sigma_j = inv(sigmas[j])\n",
    "            kl_matrix[i, j] = 0.5 * (np.trace(inv_sigma_j @ sigmas[i]) + diff_mu.T @ inv_sigma_j @ diff_mu - mus.shape[1] + np.log(det(sigmas[j]) / det(sigmas[i])))\n",
    "\n",
    "    log_terms = -0.5 * kl_matrix  # -1/2 factor from the exponent in the entropy formula\n",
    "    log_sum_exp = logsumexp(log_terms, b=pi, axis=1)\n",
    "    entropy = -np.sum(pi * log_sum_exp)\n",
    "    return entropy\n",
    "\n",
    "def bhattacharyya_distance(predict_result):\n",
    "    pi = predict_result['pi'].numpy().flatten()\n",
    "    mus = predict_result['mu'].numpy().squeeze()\n",
    "    sigmas = [np.diag(sigma) for sigma in predict_result['sigma'].numpy().squeeze()]\n",
    "\n",
    "    N = len(pi)\n",
    "    bc_values = []\n",
    "\n",
    "    for i in range(N):\n",
    "        for j in range(i+1, N):\n",
    "            sigma_i = sigmas[i]\n",
    "            sigma_j = sigmas[j]\n",
    "            sigma_avg = 0.5 * (sigma_i + sigma_j)\n",
    "            delta_mu = mus[j] - mus[i]\n",
    "            term = 0.25 * delta_mu.T @ inv(sigma_avg) @ delta_mu\n",
    "            bc = np.sqrt(det(sigma_i)**0.25 * det(sigma_j)**0.25 / det(sigma_avg)**0.5) * np.exp(-term)\n",
    "            bc_values.append(-np.log(bc))  # Convert BC to a distance\n",
    "\n",
    "    return np.mean(bc_values)\n",
    "\n",
    "calculate(model, reshaped_ink, stroke_length)"
   ]
  },
  {
   "cell_type": "code",
   "execution_count": null,
   "metadata": {},
   "outputs": [],
   "source": [
    "import matplotlib.pyplot as plt\n",
    "\n",
    "# Visualize two measures via line chart\n",
    "entropy_array, bhattacharyya_distance_array = calculate(model, reshaped_ink, stroke_length)\n",
    "\n",
    "# Adjusting the plot to separate the two measures and modify x-axis labels\n",
    "\n",
    "# Indices now represent the number of strokes, assuming each index is a stroke\n",
    "number_of_strokes = np.arange(1, len(entropy_array) + 1)\n",
    "\n",
    "# Creating the figure and axes for subplots\n",
    "fig, axes = plt.subplots(nrows=2, ncols=1, figsize=(10, 12))\n",
    "fig.suptitle('Entropy and Bhattacharyya Distance Measures per Number of Input Strokes', fontsize=16)\n",
    "\n",
    "# Plotting Entropy\n",
    "axes[0].plot(number_of_strokes, entropy_array, label='Entropy', marker='o', linestyle='-', color='blue')\n",
    "axes[0].set_title('Entropy Over Number of Input Strokes')\n",
    "axes[0].set_xlabel('Number of Input Strokes')\n",
    "axes[0].set_ylabel('Entropy')\n",
    "axes[0].grid(True)\n",
    "axes[0].legend()\n",
    "\n",
    "# Plotting Bhattacharyya Distance\n",
    "axes[1].plot(number_of_strokes, bhattacharyya_distance_array, label='Bhattacharyya Distance', marker='s', linestyle='--', color='red')\n",
    "axes[1].set_title('Bhattacharyya Distance Over Number of Input Strokes')\n",
    "axes[1].set_xlabel('Number of Input Strokes')\n",
    "axes[1].set_ylabel('Bhattacharyya Distance')\n",
    "axes[1].grid(True)\n",
    "axes[1].legend()\n",
    "\n",
    "# Adjusting layout to prevent overlap of subplots\n",
    "plt.tight_layout(rect=[0, 0.03, 1, 0.95])\n",
    "\n",
    "# Display the plots\n",
    "plt.show()"
   ]
  },
  {
   "cell_type": "markdown",
   "metadata": {},
   "source": [
    "# Use pretrained model for prediction"
   ]
  },
  {
   "cell_type": "code",
   "execution_count": null,
   "metadata": {},
   "outputs": [],
   "source": [
    "reshaped_ink[:1, :, :]"
   ]
  },
  {
   "cell_type": "code",
   "execution_count": null,
   "metadata": {},
   "outputs": [],
   "source": [
    "def autoregresive_prediction(model, raw_drawing, reshaped_ink, stroke_length, n_starting_stroke):\n",
    "    '''\n",
    "    Inputs: \n",
    "        1) model: pre-trained CoSE model\n",
    "        2) raw_drawing: line in the ndjson file associated with the 'drawing' key\n",
    "        3) reshaped_ink: preprocessed (normalized) ink\n",
    "        4) stroke_length: length for each stroke\n",
    "    '''\n",
    "    \n",
    "    # Load signatures of pre-trained models\n",
    "    encode_stroke = model.signatures[\"encode_stroke\"]\n",
    "    predict_position = model.signatures[\"predict_position\"]\n",
    "    predict_embedding = model.signatures[\"predict_position\"]\n",
    "    decode_stroke = model.signatures[\"decode_stroke\"]\n",
    "\n",
    "    # Get encoded vectors for each stroke\n",
    "    encoded_result = encode_stroke(\n",
    "        input_seq_len=tf.cast(stroke_length, tf.int32),\n",
    "        input_stroke=tf.gather(reshaped_ink, indices=[0, 1, 3], axis=2) # x coordinate, y coordinate, and pen state\n",
    "    )\n",
    "\n",
    "    encoded_embedding_sample = encoded_result['embedding_sample']\n",
    "    # Define the starting stroke (for auto-regressive completion)\n",
    "    max_seq_len = reshaped_ink.shape[1]\n",
    "    starting_ink = reshaped_ink[:n_starting_stroke, :, :]\n",
    "\n",
    "    # Iterate through each stroke in the given drawing (ink) to predict the next stroke\n",
    "    n_stroke, max_stroke_length, stroke_dim = reshaped_ink.shape\n",
    "    for i in range(len(n_stroke)):\n",
    "\n",
    "        # Predict next starting position\n",
    "        input_position = tf.expand_dims(tf.expand_dims(reshaped_ink[i, 0, :2], axis=0), axis=0)\n",
    "        input_embedding = tf.expand_dims(tf.expand_dims(encoded_embedding_sample[i, :], axis=0), axis=0)\n",
    "        predict_position_result = predict_position(\n",
    "            inp_pos=input_position,\n",
    "            inp_embeddings=input_embedding\n",
    "        )\n",
    "        target_pos=tf.expand_dims(predict_position_result['position_sample'], axis=0)\n",
    "        # Predict the embedding of next stroke\n",
    "        predict_embedding_result = predict_embedding(\n",
    "            inp_pos=input_position, \n",
    "            target_pos=tf.expand_dims(predict_position_result['position_sample'], axis=0),\n",
    "            inp_embeddings=input_embedding\n",
    "        )\n",
    "        \n",
    "        # Decode the predicted embedding into normalied coordinates\n",
    "        decode_result = decode_stroke(\n",
    "            embedding_sample = predict_embedding_result['embedding_sample'],\n",
    "            target_seq_len = tf.cast(stroke_length[i + 1], tf.int32)\n",
    "        )\n",
    "\n",
    "        decoded_stroke = decode_result['stroke']\n",
    "        # "
   ]
  },
  {
   "cell_type": "markdown",
   "metadata": {},
   "source": [
    "## Try the forward_pass signature"
   ]
  },
  {
   "cell_type": "code",
   "execution_count": null,
   "metadata": {},
   "outputs": [],
   "source": [
    "forward_pass = model.signatures[\"forward_pass\"]\n",
    "forward_pass"
   ]
  },
  {
   "cell_type": "code",
   "execution_count": null,
   "metadata": {},
   "outputs": [],
   "source": [
    "forward_pass(input_seq_len=tf.cast(stroke_length[:2], tf.int32), \n",
    "             input_stroke=reshaped_ink[:2, :, :3],\n",
    "             target_seq_len=tf.cast(stroke_length[2], tf.int32))"
   ]
  },
  {
   "cell_type": "markdown",
   "metadata": {},
   "source": [
    "## Try the encode_stroke signature"
   ]
  },
  {
   "cell_type": "code",
   "execution_count": null,
   "metadata": {},
   "outputs": [],
   "source": [
    "encode_stroke = model.signatures[\"encode_stroke\"]\n",
    "encode_stroke"
   ]
  },
  {
   "cell_type": "code",
   "execution_count": null,
   "metadata": {},
   "outputs": [],
   "source": [
    "selected_strokes = tf.gather(reshaped_ink, indices=[0, 1, 3], axis=2)\n",
    "encoded_result = encode_stroke(\n",
    "    input_seq_len=tf.cast(stroke_length, tf.int32),\n",
    "    input_stroke=selected_strokes\n",
    ")\n",
    "\n",
    "encoded_result"
   ]
  },
  {
   "cell_type": "code",
   "execution_count": null,
   "metadata": {},
   "outputs": [],
   "source": [
    "decode_stroke = model.signatures[\"decode_stroke\"]\n",
    "decode_stroke"
   ]
  },
  {
   "cell_type": "code",
   "execution_count": null,
   "metadata": {},
   "outputs": [],
   "source": [
    "tf.expand_dims(encoded_result[\"embedding_sample\"][6, :], axis=0)"
   ]
  },
  {
   "cell_type": "code",
   "execution_count": null,
   "metadata": {},
   "outputs": [],
   "source": [
    "# Use the (real) next stroke to determine the target_seq_len for the decoder\n",
    "decode_result = decode_stroke(\n",
    "    embedding_sample = tf.expand_dims(encoded_result[\"embedding_sample\"][6, :], axis=0),\n",
    "    target_seq_len = tf.cast(stroke_length[6], tf.int32)\n",
    ")"
   ]
  },
  {
   "cell_type": "code",
   "execution_count": null,
   "metadata": {},
   "outputs": [],
   "source": [
    "reshaped_ink"
   ]
  },
  {
   "cell_type": "code",
   "execution_count": null,
   "metadata": {},
   "outputs": [],
   "source": [
    "decode_result['stroke']"
   ]
  },
  {
   "cell_type": "code",
   "execution_count": null,
   "metadata": {},
   "outputs": [],
   "source": [
    "decoded_stroke = undo_preprocessing(decode_result['stroke'], decode_result['seq_len'], original_drawing)\n",
    "visualize_stroke(decoded_stroke)"
   ]
  },
  {
   "cell_type": "code",
   "execution_count": null,
   "metadata": {},
   "outputs": [],
   "source": [
    "for i in range(len(stroke_length)):\n",
    "    # Use the (real) next stroke to determine the target_seq_len for the decoder\n",
    "    decode_result = decode_stroke(\n",
    "        embedding_sample = tf.expand_dims(encoded_result[\"embedding_sample\"][i, :], axis=0),\n",
    "        target_seq_len = tf.cast(stroke_length[i], tf.int32)\n",
    "    )\n",
    "\n",
    "    decoded_stroke = undo_preprocessing(decode_result['stroke'], decode_result['seq_len'], original_drawing)\n",
    "    filtered_arrays  = []\n",
    "    for arr in decoded_stroke:\n",
    "        for sub_arr in arr:\n",
    "            if np.all(sub_arr >= 0):\n",
    "                filtered_arrays.append(sub_arr)\n",
    "\n",
    "    filtered_arrays = np.array(filtered_arrays)\n",
    "\n",
    "    visualize_stroke([filtered_arrays])\n"
   ]
  },
  {
   "cell_type": "code",
   "execution_count": null,
   "metadata": {},
   "outputs": [],
   "source": [
    "# Lists to collect embeddings and positions\n",
    "embedding_sample_list = []\n",
    "inp_pos_list = []\n",
    "\n",
    "# Process only the first two strokes\n",
    "for stroke in drawing_resampled[:2]:\n",
    "    input_seq_len_tensor, input_stroke_tensor = formalize_input(stroke)\n",
    "    output = encode_stroke(input_seq_len=input_seq_len_tensor, \n",
    "                           input_stroke=input_stroke_tensor)\n",
    "    embedding_sample = output[\"embedding_sample\"]\n",
    "    \n",
    "    # Extract the first point's coordinates as position\n",
    "    inp_pos = [[stroke[0][0], stroke[1][0]]]\n",
    "    inp_pos_list.extend(inp_pos)\n",
    "    embedding_sample_list.append(embedding_sample)\n",
    "\n",
    "# Convert lists to tensors with the right shape\n",
    "inp_pos_tensor = tf.convert_to_tensor(inp_pos_list, dtype=tf.float32)  # Shape: (num_strokes, 2)\n",
    "inp_embeddings_tensor = tf.concat(embedding_sample_list, axis=0)  # Shape: (num_strokes, 8)\n",
    "\n",
    "# Add batch dimension\n",
    "inp_pos_tensor = tf.expand_dims(inp_pos_tensor, axis=0)  # Shape: (1, num_strokes, 2)\n",
    "inp_embeddings_tensor = tf.expand_dims(inp_embeddings_tensor, axis=0)  # Shape: (1, num_strokes, 8)"
   ]
  },
  {
   "cell_type": "markdown",
   "metadata": {},
   "source": [
    "## Try the predict_position signature"
   ]
  },
  {
   "cell_type": "code",
   "execution_count": null,
   "metadata": {},
   "outputs": [],
   "source": [
    "predict_position = model.signatures[\"predict_position\"]\n",
    "predict_position"
   ]
  },
  {
   "cell_type": "code",
   "execution_count": null,
   "metadata": {},
   "outputs": [],
   "source": [
    "predict_position_result = predict_position(\n",
    "    inp_pos=tf.expand_dims(reshaped_ink[:2, 0, :2], axis=0),\n",
    "    inp_embeddings=tf.expand_dims(encoded_result['embedding_sample'][:2, :], axis=0)\n",
    ")\n",
    "predict_position_result"
   ]
  },
  {
   "cell_type": "code",
   "execution_count": null,
   "metadata": {},
   "outputs": [],
   "source": [
    "# predict_position_result = predict_position(\n",
    "#     inp_pos=tf.expand_dims(reshaped_ink[:, 0, :2], axis=1),\n",
    "#     inp_embeddings=tf.expand_dims(encoded_result['embedding_sample'], axis=1)\n",
    "# )\n",
    "# predict_position_result"
   ]
  },
  {
   "cell_type": "markdown",
   "metadata": {},
   "source": [
    "## Try predict_embedding signature"
   ]
  },
  {
   "cell_type": "code",
   "execution_count": null,
   "metadata": {},
   "outputs": [],
   "source": [
    "predict_embedding = model.signatures[\"predict_embedding\"]\n",
    "predict_embedding"
   ]
  },
  {
   "cell_type": "code",
   "execution_count": null,
   "metadata": {},
   "outputs": [],
   "source": [
    "predict_embedding_result = predict_embedding(inp_pos=tf.expand_dims(tf.expand_dims(reshaped_ink[0, 0, :2], axis=0), axis=0),\n",
    "                                             target_pos=tf.expand_dims(predict_position_result['position_sample'], axis=0),\n",
    "                                             inp_embeddings=tf.expand_dims(tf.expand_dims(encoded_result['embedding_sample'][0, :], axis=0), axis=0))\n",
    "predict_embedding_result"
   ]
  },
  {
   "cell_type": "code",
   "execution_count": null,
   "metadata": {},
   "outputs": [],
   "source": [
    "# predict_embedding_result = predict_embedding(inp_pos=tf.expand_dims(reshaped_ink[:, 0, :2], axis=1), \n",
    "#                                              target_pos=tf.expand_dims(predict_position_result['position_sample'], axis=1),\n",
    "#                                              inp_embeddings=tf.expand_dims(encoded_result['embedding_sample'], axis=1))\n",
    "# predict_embedding_result"
   ]
  },
  {
   "cell_type": "markdown",
   "metadata": {},
   "source": [
    "## Try the decode_stroke signature"
   ]
  },
  {
   "cell_type": "code",
   "execution_count": null,
   "metadata": {},
   "outputs": [],
   "source": [
    "decode_stroke = model.signatures[\"decode_stroke\"]\n",
    "decode_stroke"
   ]
  },
  {
   "cell_type": "code",
   "execution_count": null,
   "metadata": {},
   "outputs": [],
   "source": [
    "predicted_embedding = predict_embedding_result['embedding_sample']\n",
    "decode_result = decode_stroke(\n",
    "    embedding_sample = predicted_embedding,\n",
    "    target_seq_len = tf.cast(stroke_length[1], tf.int32)\n",
    ")\n",
    "\n",
    "decode_result"
   ]
  },
  {
   "cell_type": "code",
   "execution_count": null,
   "metadata": {},
   "outputs": [],
   "source": [
    "reshaped_ink[1, :, :2]"
   ]
  },
  {
   "cell_type": "code",
   "execution_count": null,
   "metadata": {},
   "outputs": [],
   "source": [
    "tf.expand_dims(predict_position_result['position_sample'], axis=0)"
   ]
  },
  {
   "cell_type": "code",
   "execution_count": null,
   "metadata": {},
   "outputs": [],
   "source": [
    "# Use the (real) next stroke to determine the target_seq_len for the decoder\n",
    "target_seq_len_tensor = tf.convert_to_tensor(len(drawing_resampled[2]), dtype=tf.int32)\n",
    "\n",
    "decode_stroke_result = decode_stroke(embedding_sample = predict_embedding_result[\"embedding_sample\"],\n",
    "                                     target_seq_len = target_seq_len_tensor)\n",
    "\n",
    "decode_stroke_result[\"stroke\"]\n",
    "# This decoded stroke with pen state and stroke are used as the new input \n",
    "# for the encoder, whose starting position and embeddings will be used\n",
    "# for auto-regressive for the remaining stokes"
   ]
  },
  {
   "cell_type": "code",
   "execution_count": null,
   "metadata": {},
   "outputs": [],
   "source": [
    "decode_stroke_result['pen']"
   ]
  },
  {
   "cell_type": "markdown",
   "metadata": {},
   "source": [
    "# Random Try"
   ]
  },
  {
   "cell_type": "code",
   "execution_count": null,
   "metadata": {},
   "outputs": [],
   "source": [
    "# def process_drawing_for_encode_stroke(drawing):\n",
    "#     flat_strokes = []\n",
    "#     total_points = 0\n",
    "#     for stroke in drawing:\n",
    "#         for i in range(len(stroke[0])):  # Iterate through points in the stroke\n",
    "#             x = stroke[0][i]\n",
    "#             y = stroke[1][i]\n",
    "#             # Assuming the third list contains timing information, not directly used here\n",
    "#             # If there's a specific \"pen state\" value needed, adjust accordingly\n",
    "#             flat_strokes.append([x, y, 1])  # Use '1' as a placeholder for pen state\n",
    "#         total_points += len(stroke[0])\n",
    "    \n",
    "#     # Convert to tensors\n",
    "#     input_stroke = tf.constant(flat_strokes, dtype=tf.float32)\n",
    "#     input_seq_len = tf.constant([total_points], dtype=tf.int32)\n",
    "    \n",
    "#     return input_stroke, input_seq_len\n",
    "\n",
    "# # Find the maximum sequence length across all processed drawings\n",
    "# max_seq_len = max(input_stroke.shape[0] for input_stroke, _ in processed_drawings)\n",
    "\n",
    "# # Pad each drawing sequence to the maximum length\n",
    "# padded_drawings = []\n",
    "# for input_stroke, input_seq_len in processed_drawings:\n",
    "#     # Calculate the padding amounts\n",
    "#     padding = [[0, max_seq_len - tf.shape(input_stroke)[0]], [0, 0]]  # Pad the sequence length to max_seq_len\n",
    "    \n",
    "#     # Pad the stroke data\n",
    "#     padded_stroke = tf.pad(input_stroke, padding, \"CONSTANT\")\n",
    "    \n",
    "#     # Append the padded stroke and original sequence length\n",
    "#     padded_drawings.append((padded_stroke, input_seq_len))\n",
    "\n",
    "# padded_drawings\n",
    "\n",
    "# import json\n",
    "\n",
    "# processed_drawings = []\n",
    "\n",
    "# # Draw a sample of 320 sketches\n",
    "# max_rows = 320\n",
    "# current_row = 0\n",
    "\n",
    "# with open(\"data_dir/quick_draw/raw_Eiffel_Tower.ndjson\", 'r') as f:\n",
    "#     for line in f:\n",
    "#         if current_row < max_rows:\n",
    "#             drawing_data = json.loads(line)\n",
    "#             drawing = drawing_data[\"drawing\"]\n",
    "#             processed_drawing = process_drawing_for_encode_stroke(drawing)\n",
    "#             processed_drawings.append(processed_drawing)\n",
    "#             current_row += 1\n",
    "#         else:\n",
    "#             break\n",
    "# stroke_tensors = [x[0] for x in padded_drawings]\n",
    "# seq_len_tensors = [x[1] for x in padded_drawings]\n",
    "\n",
    "# stroke_dataset = tf.data.Dataset.from_tensor_slices(stroke_tensors)\n",
    "# seq_len_dataset = tf.data.Dataset.from_tensor_slices(seq_len_tensors)\n",
    "\n",
    "# # Combine into a single dataset\n",
    "# dataset = tf.data.Dataset.zip((stroke_dataset, seq_len_dataset))\n",
    "\n",
    "# dataset\n",
    "\n",
    "# # Set your desired batch size\n",
    "# batch_size = 128\n",
    "\n",
    "# # Batch the dataset. No need to specify padding values or shapes here because\n",
    "# # your tensors within each dataset element already have a uniform shape after padding.\n",
    "# batched_dataset = dataset.batch(batch_size)"
   ]
  },
  {
   "cell_type": "code",
   "execution_count": null,
   "metadata": {},
   "outputs": [],
   "source": [
    "# # Define the features of importance for input formatting\n",
    "# feature_description = {\n",
    "#     'ink': tf.io.VarLenFeature(tf.float32),\n",
    "# }\n",
    "\n",
    "# # For now, I use a very small sample of dataset\n",
    "# file_paths = \"data_dir/quick_draw/training/raw_Eiffel_Tower-00000-of-00010\"\n",
    "# dataset = tf.data.TFRecordDataset(file_paths)\n",
    "\n",
    "# # for raw_record in dataset.take(1):\n",
    "# #   example = tf.train.Example()\n",
    "# #   example.ParseFromString(raw_record.numpy())\n",
    "# #   print(example)\n",
    "\n",
    "# # Parse a Tensorflow Example proto \n",
    "# parsed_dataset = dataset.map(lambda x: tf.io.parse_single_example(x, feature_description)) \n",
    "\n",
    "# # Define a function to get the `input_seq_len` and `input_stroke` arguments \n",
    "# # for fitting the pretrained model (specifically, `encode_stroke` signature)\n",
    "# max_length_threshold = 201\n",
    "\n",
    "# def get_input_arguments(parsed_record):\n",
    "#     # Reshape and extract the first three dimensions from parsed_record['ink']\n",
    "#     # (x coordinate, y coordinate, and pen state)\n",
    "#     ink = tf.sparse.to_dense(parsed_record['ink'])\n",
    "#     input_seq_len = tf.shape(ink)[0] // 4\n",
    "#     ink_reshaped = tf.reshape(ink, (input_seq_len, 4))\n",
    "#     # Expand the input_stroke to three dimensions for batching \n",
    "#     input_stroke = tf.expand_dims(ink_reshaped[:, :3], axis=0)\n",
    "    \n",
    "#     # Make sure it matches the input shape \n",
    "#     input_seq_len = tf.reshape(input_seq_len, [1]) \n",
    "\n",
    "#     return input_seq_len, input_stroke\n",
    "    \n",
    "# preprocessed_dataset = parsed_dataset.map(get_input_arguments)"
   ]
  }
 ],
 "metadata": {
  "kernelspec": {
   "display_name": "Python 3",
   "language": "python",
   "name": "python3"
  },
  "language_info": {
   "codemirror_mode": {
    "name": "ipython",
    "version": 3
   },
   "file_extension": ".py",
   "mimetype": "text/x-python",
   "name": "python",
   "nbconvert_exporter": "python",
   "pygments_lexer": "ipython3",
   "version": "3.9.18"
  }
 },
 "nbformat": 4,
 "nbformat_minor": 2
}
