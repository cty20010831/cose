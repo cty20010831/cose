{
 "cells": [
  {
   "cell_type": "markdown",
   "metadata": {},
   "source": [
    "# Import modules"
   ]
  },
  {
   "cell_type": "code",
   "execution_count": 1,
   "metadata": {},
   "outputs": [],
   "source": [
    "import tensorflow as tf\n",
    "import pandas as pd\n",
    "import numpy as np\n",
    "import json\n",
    "import os\n",
    "import linecache"
   ]
  },
  {
   "cell_type": "markdown",
   "metadata": {},
   "source": [
    "# Get model architecture"
   ]
  },
  {
   "cell_type": "code",
   "execution_count": 2,
   "metadata": {},
   "outputs": [],
   "source": [
    "model_signature_directory = '../thesis/model_architecture.csv'\n",
    "model = tf.saved_model.load(\"../pretrained_model/saved_model_with_signatures\")\n",
    "\n",
    "if not os.path.exists(model_signature_directory):\n",
    "    # Collecting signature details\n",
    "    signatures_data = []\n",
    "\n",
    "    # Iterate over each signature in the model\n",
    "    for key, signature in model.signatures.items():\n",
    "        # Initialize dictionaries for current signature's inputs and outputs\n",
    "        inputs_dict = {}\n",
    "        outputs_dict = {}\n",
    "\n",
    "        # Iterate over inputs and outputs, filling in the dictionaries\n",
    "        for input_key, input_val in signature.structured_input_signature[1].items():\n",
    "            inputs_dict[input_key] = str(input_val.dtype.name)\n",
    "\n",
    "        for output_key, output_val in signature.structured_outputs.items():\n",
    "            outputs_dict[output_key] = str(output_val.dtype.name)\n",
    "\n",
    "        # Append the current signature's details to the list\n",
    "        signatures_data.append({\n",
    "            \"Signature Key\": key,\n",
    "            \"Inputs\": inputs_dict,\n",
    "            \"Outputs\": outputs_dict\n",
    "        })\n",
    "\n",
    "    # Convert list of signature data into a DataFrame for visualization\n",
    "    df_signatures = pd.DataFrame(signatures_data)\n",
    "\n",
    "    df_inputs = df_signatures[\"Inputs\"].apply(pd.Series)\n",
    "    df_outputs = df_signatures[\"Outputs\"].apply(pd.Series)\n",
    "    df_signatures = pd.concat([df_signatures.drop(['Inputs', 'Outputs'], axis=1), df_inputs, df_outputs], axis=1)\n",
    "    df_signatures.set_index('Signature Key', drop=True, inplace=True)\n",
    "    df_signatures.to_csv(model_signature_directory, index=True)\n",
    "else:\n",
    "    df_signatures = pd.read_csv(model_signature_directory, index_col='Signature Key')"
   ]
  },
  {
   "cell_type": "code",
   "execution_count": 3,
   "metadata": {},
   "outputs": [
    {
     "data": {
      "text/html": [
       "<div>\n",
       "<style scoped>\n",
       "    .dataframe tbody tr th:only-of-type {\n",
       "        vertical-align: middle;\n",
       "    }\n",
       "\n",
       "    .dataframe tbody tr th {\n",
       "        vertical-align: top;\n",
       "    }\n",
       "\n",
       "    .dataframe thead th {\n",
       "        text-align: right;\n",
       "    }\n",
       "</style>\n",
       "<table border=\"1\" class=\"dataframe\">\n",
       "  <thead>\n",
       "    <tr style=\"text-align: right;\">\n",
       "      <th></th>\n",
       "      <th>target_seq_len</th>\n",
       "      <th>embedding_sample</th>\n",
       "      <th>target_pos</th>\n",
       "      <th>inp_embeddings</th>\n",
       "      <th>inp_pos</th>\n",
       "      <th>input_stroke</th>\n",
       "      <th>input_seq_len</th>\n",
       "      <th>pen</th>\n",
       "      <th>seq_len</th>\n",
       "      <th>stroke</th>\n",
       "      <th>embedding_sample.1</th>\n",
       "      <th>sigma</th>\n",
       "      <th>mu</th>\n",
       "      <th>pi</th>\n",
       "      <th>position_sample</th>\n",
       "    </tr>\n",
       "    <tr>\n",
       "      <th>Signature Key</th>\n",
       "      <th></th>\n",
       "      <th></th>\n",
       "      <th></th>\n",
       "      <th></th>\n",
       "      <th></th>\n",
       "      <th></th>\n",
       "      <th></th>\n",
       "      <th></th>\n",
       "      <th></th>\n",
       "      <th></th>\n",
       "      <th></th>\n",
       "      <th></th>\n",
       "      <th></th>\n",
       "      <th></th>\n",
       "      <th></th>\n",
       "    </tr>\n",
       "  </thead>\n",
       "  <tbody>\n",
       "    <tr>\n",
       "      <th>decode_stroke</th>\n",
       "      <td>int32</td>\n",
       "      <td>float32</td>\n",
       "      <td>NaN</td>\n",
       "      <td>NaN</td>\n",
       "      <td>NaN</td>\n",
       "      <td>NaN</td>\n",
       "      <td>NaN</td>\n",
       "      <td>float32</td>\n",
       "      <td>int32</td>\n",
       "      <td>float32</td>\n",
       "      <td>NaN</td>\n",
       "      <td>NaN</td>\n",
       "      <td>NaN</td>\n",
       "      <td>NaN</td>\n",
       "      <td>NaN</td>\n",
       "    </tr>\n",
       "    <tr>\n",
       "      <th>predict_embedding</th>\n",
       "      <td>NaN</td>\n",
       "      <td>NaN</td>\n",
       "      <td>float32</td>\n",
       "      <td>float32</td>\n",
       "      <td>float32</td>\n",
       "      <td>NaN</td>\n",
       "      <td>NaN</td>\n",
       "      <td>NaN</td>\n",
       "      <td>NaN</td>\n",
       "      <td>NaN</td>\n",
       "      <td>float32</td>\n",
       "      <td>float32</td>\n",
       "      <td>float32</td>\n",
       "      <td>float32</td>\n",
       "      <td>NaN</td>\n",
       "    </tr>\n",
       "    <tr>\n",
       "      <th>predict_position</th>\n",
       "      <td>NaN</td>\n",
       "      <td>NaN</td>\n",
       "      <td>NaN</td>\n",
       "      <td>float32</td>\n",
       "      <td>float32</td>\n",
       "      <td>NaN</td>\n",
       "      <td>NaN</td>\n",
       "      <td>NaN</td>\n",
       "      <td>NaN</td>\n",
       "      <td>NaN</td>\n",
       "      <td>NaN</td>\n",
       "      <td>float32</td>\n",
       "      <td>float32</td>\n",
       "      <td>float32</td>\n",
       "      <td>float32</td>\n",
       "    </tr>\n",
       "    <tr>\n",
       "      <th>encode_stroke</th>\n",
       "      <td>NaN</td>\n",
       "      <td>NaN</td>\n",
       "      <td>NaN</td>\n",
       "      <td>NaN</td>\n",
       "      <td>NaN</td>\n",
       "      <td>float32</td>\n",
       "      <td>int32</td>\n",
       "      <td>NaN</td>\n",
       "      <td>NaN</td>\n",
       "      <td>NaN</td>\n",
       "      <td>float32</td>\n",
       "      <td>NaN</td>\n",
       "      <td>NaN</td>\n",
       "      <td>NaN</td>\n",
       "      <td>NaN</td>\n",
       "    </tr>\n",
       "    <tr>\n",
       "      <th>forward_pass</th>\n",
       "      <td>int32</td>\n",
       "      <td>NaN</td>\n",
       "      <td>NaN</td>\n",
       "      <td>NaN</td>\n",
       "      <td>NaN</td>\n",
       "      <td>float32</td>\n",
       "      <td>int32</td>\n",
       "      <td>float32</td>\n",
       "      <td>int32</td>\n",
       "      <td>float32</td>\n",
       "      <td>float32</td>\n",
       "      <td>NaN</td>\n",
       "      <td>NaN</td>\n",
       "      <td>NaN</td>\n",
       "      <td>NaN</td>\n",
       "    </tr>\n",
       "  </tbody>\n",
       "</table>\n",
       "</div>"
      ],
      "text/plain": [
       "                  target_seq_len embedding_sample target_pos inp_embeddings  \\\n",
       "Signature Key                                                                 \n",
       "decode_stroke              int32          float32        NaN            NaN   \n",
       "predict_embedding            NaN              NaN    float32        float32   \n",
       "predict_position             NaN              NaN        NaN        float32   \n",
       "encode_stroke                NaN              NaN        NaN            NaN   \n",
       "forward_pass               int32              NaN        NaN            NaN   \n",
       "\n",
       "                   inp_pos input_stroke input_seq_len      pen seq_len  \\\n",
       "Signature Key                                                            \n",
       "decode_stroke          NaN          NaN           NaN  float32   int32   \n",
       "predict_embedding  float32          NaN           NaN      NaN     NaN   \n",
       "predict_position   float32          NaN           NaN      NaN     NaN   \n",
       "encode_stroke          NaN      float32         int32      NaN     NaN   \n",
       "forward_pass           NaN      float32         int32  float32   int32   \n",
       "\n",
       "                    stroke embedding_sample.1    sigma       mu       pi  \\\n",
       "Signature Key                                                              \n",
       "decode_stroke      float32                NaN      NaN      NaN      NaN   \n",
       "predict_embedding      NaN            float32  float32  float32  float32   \n",
       "predict_position       NaN                NaN  float32  float32  float32   \n",
       "encode_stroke          NaN            float32      NaN      NaN      NaN   \n",
       "forward_pass       float32            float32      NaN      NaN      NaN   \n",
       "\n",
       "                  position_sample  \n",
       "Signature Key                      \n",
       "decode_stroke                 NaN  \n",
       "predict_embedding             NaN  \n",
       "predict_position          float32  \n",
       "encode_stroke                 NaN  \n",
       "forward_pass                  NaN  "
      ]
     },
     "execution_count": 3,
     "metadata": {},
     "output_type": "execute_result"
    }
   ],
   "source": [
    "df_signatures"
   ]
  },
  {
   "cell_type": "markdown",
   "metadata": {},
   "source": [
    "# Preprocess drawings"
   ]
  },
  {
   "cell_type": "markdown",
   "metadata": {},
   "source": [
    "## Visualize sample drawing (first row)"
   ]
  },
  {
   "cell_type": "code",
   "execution_count": 4,
   "metadata": {},
   "outputs": [
    {
     "name": "stdout",
     "output_type": "stream",
     "text": [
      "before [[[16, 33.507999420166016, 44.75699996948242, 52.5620002746582, 58.189998626708984, 64.90499877929688, 73.16600036621094, 82.36599731445312, 90.95600128173828, 99.41999816894531, 109, 120.08799743652344, 133.61000061035156, 146.77200317382812, 159.43699645996094, 170.01199340820312, 178.48899841308594, 186.35000610351562, 192.79299926757812, 199.4720001220703, 204.9949951171875, 210.7969970703125, 217.86000061035156, 224.9029998779297, 231.375, 238.53799438476562, 245.947998046875, 252.15699768066406, 259.3489990234375, 266.2959899902344, 273, 280.8179931640625, 288.7170104980469, 296.7380065917969, 304.24200439453125, 312.3080139160156, 321.2250061035156, 330.1130065917969, 338.84600830078125, 347.125, 350.1159973144531], [350, 351.0889892578125, 353.135009765625, 355.37799072265625, 359.0950012207031, 361.67999267578125, 362.7179870605469, 363.2080078125, 363.3330078125, 363.3330078125, 363, 362.0660095214844, 360.76300048828125, 359.72601318359375, 358.3590087890625, 357.3330078125, 356.32000732421875, 355.302001953125, 354.6159973144531, 354.281005859375, 353.9259948730469, 353.5780029296875, 353.2380065917969, 352.75299072265625, 352.1960144042969, 351.84600830078125, 351.489990234375, 351.1510009765625, 350.4649963378906, 350.3330078125, 350, 349.4100036621094, 348.739990234375, 348.0539855957031, 347.7049865722656, 347.02801513671875, 346.0090026855469, 344.99200439453125, 343.6390075683594, 342.6289978027344, 341.2560119628906], [0, 73, 89, 105, 123, 141, 156, 172, 193, 205, 223, 238, 255, 271, 288, 305, 323, 340, 356, 373, 390, 407, 426, 439, 456, 472, 488, 505, 522, 538, 554, 573, 589, 607, 625, 642, 656, 673, 690, 708, 740]], [[115, 115, 117.06900024414062, 118.89900207519531, 119.66699981689453, 120.28900146484375, 123.65399932861328, 125.70899963378906, 126.66699981689453, 128.1009979248047, 129.79600524902344, 131.6529998779297, 133.19000244140625, 134.75100708007812, 136.7899932861328, 138.44900512695312, 139.7989959716797, 142.31900024414062, 145.03199768066406, 147.7740020751953, 149.86000061035156, 152.22900390625, 154.93699645996094, 157.6820068359375, 161.01300048828125, 163.43600463867188, 165.4219970703125, 168.8179931640625, 171.89700317382812, 174.9290008544922, 175.98199462890625, 177.8560028076172, 180.7550048828125, 183.49899291992188, 186.56100463867188, 188.9739990234375, 190.33299255371094, 192.33299255371094, 193.66700744628906, 194.33299255371094, 195, 195.66700744628906, 197.54600524902344, 198.33299255371094, 198.33299255371094, 198.88499450683594, 200.99400329589844, 203, 203, 203, 204.2030029296875, 205.2169952392578, 206.14199829101562, 207.17300415039062, 208.18499755859375, 209.56500244140625, 210.93099975585938, 212.29299926757812, 215.2989959716797, 221.8000030517578, 224.86099243164062, 225.78599548339844, 227.16200256347656, 228.41099548339844, 229.43499755859375, 230.4600067138672, 231.60699462890625, 232.64599609375, 234.1540069580078, 236.03199768066406, 239.197998046875, 242.14599609375, 244.80999755859375, 247.73300170898438, 249.78199768066406, 251.552001953125, 252.61500549316406, 253.65199279785156, 253.66700744628906, 254.71200561523438, 255, 256.5, 257.43798828125, 257.781005859375, 258.4599914550781, 260.1610107421875, 262.7179870605469, 264.8840026855469, 266.1629943847656, 268.61700439453125, 270.2929992675781, 272.6700134277344, 275.7330017089844, 278.0589904785156, 280], [353, 347, 342.2650146484375, 337.1730041503906, 330.66400146484375, 323.5559997558594, 316.0249938964844, 308.89300537109375, 303.8739929199219, 297.5979919433594, 291.6839904785156, 284.37298583984375, 280.1130065917969, 273.26800537109375, 263.9649963378906, 254.52499389648438, 245.53900146484375, 238.86801147460938, 232.08700561523438, 226.17599487304688, 219.80099487304688, 213.2349853515625, 205.84100341796875, 197.62600708007812, 189.29400634765625, 181.65798950195312, 176.35699462890625, 169.02999877929688, 162.09100341796875, 154.54501342773438, 150.21200561523438, 142.7209930419922, 136.06700134277344, 128.1699981689453, 120.59700012207031, 114.71800231933594, 110.64700317382812, 106.50399780273438, 102.11399841308594, 97.68800354003906, 92, 87.79400634765625, 83.57400512695312, 77.99800109863281, 73.197998046875, 68.44900512695312, 64.33900451660156, 70, 75, 81, 91.4320068359375, 101.68699645996094, 110.61500549316406, 119.625, 128.44400024414062, 134.9770050048828, 140.0590057373047, 147.08799743652344, 152.3159942626953, 160.2139892578125, 167.20001220703125, 175.7760009765625, 183.22198486328125, 188.7030029296875, 195.68399047851562, 202.135009765625, 207.62399291992188, 212.91799926757812, 218.46200561523438, 224.22299194335938, 230.13101196289062, 235.625, 241.9530029296875, 248.44400024414062, 253.56399536132812, 257.9880065917969, 262.02398681640625, 267.6099853515625, 275.1549987792969, 283.60699462890625, 288, 292.0820007324219, 296.3970031738281, 301.4639892578125, 306.2200012207031, 314.2980041503906, 319.43499755859375, 323.8699951171875, 328.7449951171875, 335.13299560546875, 340.2539978027344, 345.3370056152344, 350.39898681640625, 355.1759948730469, 358], [1563, 1623, 1655, 1689, 1724, 1756, 1790, 1824, 1857, 1906, 1940, 1972, 1989, 2005, 2025, 2040, 2056, 2074, 2089, 2106, 2124, 2142, 2157, 2173, 2190, 2206, 2225, 2256, 2289, 2324, 2340, 2374, 2406, 2440, 2472, 2506, 2573, 2724, 2825, 2871, 2922, 2972, 3005, 3041, 3072, 3142, 3255, 3409, 3432, 3460, 3489, 3505, 3524, 3540, 3555, 3572, 3590, 3617, 3634, 3658, 3672, 3689, 3706, 3724, 3741, 3758, 3772, 3788, 3806, 3824, 3839, 3856, 3873, 3890, 3906, 3924, 3943, 3977, 4012, 4041, 4062, 4086, 4096, 4105, 4122, 4155, 4188, 4222, 4255, 4289, 4324, 4364, 4396, 4424, 4508]], [[139, 140.6219940185547, 141.29600524902344, 142.29800415039062, 142.66200256347656, 145, 146.05099487304688, 147.07899475097656, 148.59100341796875, 149.8000030517578, 151.92999267578125, 155.6750030517578, 158.73599243164062, 161.26199340820312, 162.20899963378906, 163.5590057373047, 164.2429962158203, 164.92599487304688, 165.6009979248047, 166.28599548339844, 166.63400268554688, 166.98199462890625, 167.33299255371094, 168.36500549316406, 169.3979949951172, 170.0279998779297, 170.3990020751953, 171.07000732421875, 172.44700622558594, 174.2689971923828, 176.15499877929688, 178.73199462890625, 181.2310028076172, 182.6199951171875, 186.43299865722656, 191.18699645996094, 194.92799377441406, 197.9290008544922, 200.67999267578125, 202.33299255371094, 203, 203.1580047607422, 201.40499877929688, 201, 200.33599853515625, 199.98599243164062, 200, 199.66700744628906, 199.66700744628906, 199.7449951171875, 200, 200.7740020751953, 201.57899475097656, 204.13800048828125, 207.8800048828125, 214.4949951171875, 219.64500427246094, 221.98300170898438, 224.11000061035156, 226.18499755859375, 228.21499633789062, 230.31199645996094, 232.31900024414062, 236.10000610351562, 237.75599670410156, 239.88699340820312, 241.98500061035156, 247.79400634765625, 251.94900512695312, 254.1719970703125, 256.7460021972656, 259.8009948730469, 262.8609924316406, 264.9580078125, 265.3330078125, 265.6669921875], [342, 335.385986328125, 327.0450134277344, 322.7900085449219, 317.6940002441406, 312, 307.7959899902344, 301.60400390625, 295.4849853515625, 290.39801025390625, 282.11700439453125, 274.9750061035156, 266.4599914550781, 258.8169860839844, 251.697998046875, 245.635986328125, 238.90499877929688, 232.33499145507812, 226.4580078125, 221.04800415039062, 215.89498901367188, 210.47500610351562, 204.74200439453125, 199.2239990234375, 193.04400634765625, 187.0780029296875, 181.14401245117188, 176.9119873046875, 169.65200805664062, 163.5260009765625, 155.8900146484375, 150.73500061035156, 146.20399475097656, 141.3800048828125, 137.23399353027344, 132.81300354003906, 127.47799682617188, 122.73699951171875, 117.96099853515625, 113.85600280761719, 108, 103.50799560546875, 111.93800354003906, 126, 145.2550048828125, 163.0469970703125, 180, 196.04098510742188, 208.56698608398438, 217.6099853515625, 225, 233.07101440429688, 239.5260009765625, 246.1199951171875, 253.35198974609375, 258.90899658203125, 267.0459899902344, 271.3869934082031, 276.2749938964844, 281.60400390625, 287.0169982910156, 291.59100341796875, 295.63800048828125, 303.5329895019531, 307.6000061035156, 311.77301025390625, 315.8110046386719, 323.2430114746094, 328.56500244140625, 334.1919860839844, 340.697998046875, 348.6369934082031, 356.05499267578125, 361.5, 366.98699951171875, 367.67401123046875], [6241, 6376, 6394, 6411, 6423, 6457, 6491, 6527, 6562, 6578, 6591, 6607, 6624, 6640, 6656, 6673, 6689, 6706, 6724, 6744, 6763, 6773, 6791, 6807, 6824, 6842, 6857, 6874, 6908, 6940, 6973, 7008, 7042, 7106, 7257, 7382, 7440, 7492, 7556, 7594, 7642, 7689, 7852, 7864, 7882, 7894, 7906, 7924, 7942, 7959, 7974, 7991, 8007, 8039, 8073, 8107, 8141, 8159, 8174, 8191, 8207, 8227, 8241, 8274, 8290, 8307, 8325, 8364, 8393, 8423, 8457, 8492, 8526, 8557, 8604, 8641]], [[158.66700744628906, 162.85800170898438, 171.5570068359375, 177.7270050048828, 182.2760009765625, 187.84800720214844, 191.6300048828125, 193.3350067138672, 195.36099243164062, 201.8780059814453, 208.73500061035156, 212.91200256347656, 215.80499267578125, 219.1529998779297, 222.03799438476562, 225.10699462890625, 228.88999938964844, 233.68099975585938, 241.86599731445312, 246.3300018310547, 252.0030059814453, 256.5820007324219, 258.3330078125], [224.6669921875, 224.6669921875, 224.3330078125, 223.76800537109375, 222.0570068359375, 215.92001342773438, 209.06100463867188, 204.99600219726562, 200.60299682617188, 194.20700073242188, 191.50601196289062, 193.66400146484375, 198.7550048828125, 206.33700561523438, 214.69000244140625, 221.65301513671875, 226.71499633789062, 229.5780029296875, 232.552001953125, 232.44500732421875, 231.75, 231.6669921875, 231.6669921875], [9001, 9091, 9107, 9126, 9142, 9175, 9207, 9224, 9244, 9286, 9321, 9344, 9353, 9365, 9383, 9395, 9407, 9424, 9460, 9475, 9491, 9511, 9551]], [[114.66699981689453, 128.91600036621094, 139.8350067138672, 151.50900268554688, 160.77200317382812, 170.04299926757812, 177.94700622558594, 186.86199951171875, 194.86700439453125, 202.7989959716797, 208.44000244140625, 213.9010009765625, 218.0050048828125, 222.85899353027344], [276.3330078125, 275.6669921875, 275.3330078125, 274.97198486328125, 274.3039855957031, 273.9410095214844, 273.27801513671875, 272.58099365234375, 270.6730041503906, 268.3240051269531, 266.3900146484375, 265.0249938964844, 263.3280029296875, 261.4750061035156], [9812, 9861, 9875, 9894, 9911, 9925, 9944, 9958, 9977, 9992, 10009, 10025, 10043, 10076]]]\n",
      "after [<zip object at 0x300630600>, <zip object at 0x300630580>, <zip object at 0x300630480>, <zip object at 0x300816d40>, <zip object at 0x300816e00>]\n"
     ]
    },
    {
     "data": {
      "image/png": "[encoded data removed]",
      "text/plain": [
       "<PIL.Image.Image image mode=RGB size=240x270>"
      ]
     },
     "metadata": {},
     "output_type": "display_data"
    }
   ],
   "source": [
    "import json\n",
    "from PIL import Image, ImageDraw\n",
    "from IPython.display import display  \n",
    "\n",
    "# read ndjson lines\n",
    "lines = open('data/raw_The_Eiffel_Tower.ndjson','r').readlines()\n",
    "# grab the first line, JSON parse it and fetch the 'drawing' array\n",
    "raw_drawing = json.loads(lines[0])['drawing']\n",
    "\n",
    "print('before',raw_drawing)\n",
    "# zip x,y coordinates for each point in every polyline\n",
    "polylines = list((zip(polyline[0], polyline[1]) for polyline in raw_drawing))\n",
    "# notice how the data is shuffled to (x1,y1),(x2,y2) order\n",
    "print('after',polylines)\n",
    "\n",
    "# make a new image\n",
    "pil_img = Image.new(\"RGB\", (240, 270), (255,255,255))\n",
    "# get a drawing context\n",
    "d = ImageDraw.Draw(pil_img)\n",
    "# render each polyline\n",
    "for polyline in polylines:\n",
    "    # Flatten the list of tuples into a single list of coordinates\n",
    "    polyline_flat = [coord for point in polyline for coord in point]\n",
    "    d.line(polyline_flat,fill=(0, 0, 0), width=3)\n",
    "\n",
    "# display image\n",
    "display(pil_img)"
   ]
  },
  {
   "cell_type": "markdown",
   "metadata": {},
   "source": [
    "## Parse preprocessed drawings into TFRecord"
   ]
  },
  {
   "cell_type": "code",
   "execution_count": 5,
   "metadata": {},
   "outputs": [],
   "source": [
    "# type the following in the terminal to convert raw ndjson file to TFRecord \n",
    "# python thesis/data_preprocessing.py"
   ]
  },
  {
   "cell_type": "code",
   "execution_count": 6,
   "metadata": {},
   "outputs": [],
   "source": [
    "def _parse_function(example_proto):\n",
    "     # Define the feature structure of TF_example\n",
    "    feature_description = {\n",
    "        'key': tf.io.FixedLenFeature([], tf.string),\n",
    "        'label_id': tf.io.FixedLenFeature([], tf.string),\n",
    "        'ink': tf.io.VarLenFeature(tf.float32),\n",
    "        'stroke_length': tf.io.VarLenFeature(tf.int64),\n",
    "        'shape': tf.io.FixedLenFeature([3], tf.int64),\n",
    "        'num_strokes': tf.io.FixedLenFeature([], tf.int64)\n",
    "    }\n",
    "\n",
    "    # Parse the input tf.train.Example proto based on feature_description\n",
    "    return tf.io.parse_single_example(example_proto, feature_description)"
   ]
  },
  {
   "cell_type": "code",
   "execution_count": 7,
   "metadata": {},
   "outputs": [
    {
     "data": {
      "text/plain": [
       "<_MapDataset element_spec={'ink': SparseTensorSpec(TensorShape([None]), tf.float32), 'stroke_length': SparseTensorSpec(TensorShape([None]), tf.int64), 'key': TensorSpec(shape=(), dtype=tf.string, name=None), 'label_id': TensorSpec(shape=(), dtype=tf.string, name=None), 'num_strokes': TensorSpec(shape=(), dtype=tf.int64, name=None), 'shape': TensorSpec(shape=(3,), dtype=tf.int64, name=None)}>"
      ]
     },
     "execution_count": 7,
     "metadata": {},
     "output_type": "execute_result"
    }
   ],
   "source": [
    "tfrecord_path = 'data/raw_The_Eiffel_Tower-00000-of-00001.tfrecord'\n",
    "raw_drawing_dataset = tf.data.TFRecordDataset(tfrecord_path)\n",
    "parsed_drawing_dataset = raw_drawing_dataset.map(_parse_function)\n",
    "\n",
    "parsed_drawing_dataset"
   ]
  },
  {
   "cell_type": "code",
   "execution_count": 8,
   "metadata": {},
   "outputs": [
    {
     "name": "stderr",
     "output_type": "stream",
     "text": [
      "2024-04-26 13:24:13.791952: W tensorflow/tsl/platform/profile_utils/cpu_utils.cc:128] Failed to get CPU frequency: 0 Hz\n"
     ]
    }
   ],
   "source": [
    "# In this code, I just sample the first record\n",
    "for parsed_features in parsed_drawing_dataset.take(1):\n",
    "    ink = tf.sparse.to_dense(parsed_features['ink'])\n",
    "    shape = parsed_features['shape']\n",
    "    stroke_length = tf.sparse.to_dense(parsed_features['stroke_length'])\n",
    "    \n",
    "    # Reshape ink data to original dimensions (num_strokes, max_len, 4)\n",
    "    reshaped_ink = tf.reshape(ink, shape)"
   ]
  },
  {
   "cell_type": "markdown",
   "metadata": {},
   "source": [
    "## Undo preprocessing and do visualization again"
   ]
  },
  {
   "cell_type": "code",
   "execution_count": 9,
   "metadata": {},
   "outputs": [],
   "source": [
    "from undo_data_preprocessing import undo_preprocessing\n",
    "lines = open('data/raw_The_Eiffel_Tower.ndjson','r').readlines()\n",
    "original_drawing = json.loads(lines[0])['drawing']\n",
    "reversed_strokes = undo_preprocessing(reshaped_ink, stroke_length, original_drawing)"
   ]
  },
  {
   "cell_type": "code",
   "execution_count": 105,
   "metadata": {},
   "outputs": [
    {
     "data": {
      "image/png": "[encoded data removed]",
      "text/plain": [
       "<PIL.Image.Image image mode=RGB size=240x270>"
      ]
     },
     "metadata": {},
     "output_type": "display_data"
    }
   ],
   "source": [
    "from stroke_visualization import visualize_stroke\n",
    "visualize_stroke(reversed_strokes)"
   ]
  },
  {
   "cell_type": "markdown",
   "metadata": {},
   "source": [
    "# Preprocesses raw drawings and get the right input format for `encode_stroke`"
   ]
  },
  {
   "cell_type": "code",
   "execution_count": 11,
   "metadata": {},
   "outputs": [],
   "source": [
    "# Define functions to adjusts all drawings to have a consistent scale or size\n",
    "def get_bounding_box(drawing):\n",
    "    minx = 99999\n",
    "    miny = 99999\n",
    "    maxx = 0\n",
    "    maxy = 0\n",
    "\n",
    "    for s in drawing:\n",
    "      minx = min(minx, min(s[0]))\n",
    "      maxx = max(maxx, max(s[0]))\n",
    "      miny = min(miny, min(s[1]))\n",
    "      maxy = max(maxy, max(s[1]))\n",
    "    return (minx, miny, maxx, maxy)\n",
    "\n",
    "def size_normalization(drawing):\n",
    "  bb = get_bounding_box(drawing)\n",
    "  width, height = bb[2] - bb[0], bb[3] - bb[1]\n",
    "  offset_x, offset_y = bb[0], bb[1]\n",
    "  if height < 1e-6:\n",
    "     height = 1\n",
    "\n",
    "  size_normalized_drawing = [[[(x - offset_x) / width for x in stroke[0]],\n",
    "                              [(y - offset_y) / height for y in stroke[1]],\n",
    "                              [t for t in stroke[2]]]\n",
    "                             for stroke in drawing]\n",
    "\n",
    "  return size_normalized_drawing"
   ]
  },
  {
   "cell_type": "code",
   "execution_count": 12,
   "metadata": {},
   "outputs": [],
   "source": [
    "# Define a function to resample the ink to have uniform time steps\n",
    "# (Ensure that each point is separated by a constant time step)\n",
    "def resample_ink(drawing, timestep=20):\n",
    "    resampled_drawing = []\n",
    "    \n",
    "    for stroke in drawing:\n",
    "        # Initialize with the first point\n",
    "        resampled_stroke = [[stroke[0][0], stroke[1][0], stroke[2][0]]]  \n",
    "        \n",
    "        for i in range(1, len(stroke[0])):\n",
    "            x0, y0, t0 = stroke[0][i-1], stroke[1][i-1], stroke[2][i-1]\n",
    "            x1, y1, t1 = stroke[0][i], stroke[1][i], stroke[2][i]\n",
    "            distance = np.sqrt((x1 - x0)**2 + (y1 - y0)**2)\n",
    "            if distance == 0:\n",
    "                continue\n",
    "            else:\n",
    "                new_points = max(1, int(distance / timestep))\n",
    "                for j in range(1, new_points + 1):\n",
    "                    new_point = [x0 + j * (x1 - x0) / new_points,\n",
    "                                y0 + j * (y1 - y0) / new_points,\n",
    "                                t0 + j * (t1 - t0) / new_points]\n",
    "                    resampled_stroke.append(new_point)\n",
    "        \n",
    "        resampled_drawing.append(resampled_stroke)\n",
    "\n",
    "    return resampled_drawing"
   ]
  },
  {
   "cell_type": "markdown",
   "metadata": {},
   "source": [
    "Here I try with the first drawing in quick_draw_Eiffel_Tower:"
   ]
  },
  {
   "cell_type": "code",
   "execution_count": 13,
   "metadata": {},
   "outputs": [
    {
     "ename": "JSONDecodeError",
     "evalue": "Expecting value: line 1 column 1 (char 0)",
     "output_type": "error",
     "traceback": [
      "\u001b[0;31m---------------------------------------------------------------------------\u001b[0m",
      "\u001b[0;31mJSONDecodeError\u001b[0m                           Traceback (most recent call last)",
      "Cell \u001b[0;32mIn[13], line 8\u001b[0m\n\u001b[1;32m      6\u001b[0m line \u001b[38;5;241m=\u001b[39m linecache\u001b[38;5;241m.\u001b[39mgetline(ndjson_file_path, line_number)\u001b[38;5;241m.\u001b[39mstrip()\n\u001b[1;32m      7\u001b[0m \u001b[38;5;66;03m# Parse the JSON content from the line\u001b[39;00m\n\u001b[0;32m----> 8\u001b[0m selected_row \u001b[38;5;241m=\u001b[39m json\u001b[38;5;241m.\u001b[39mloads(line)\n\u001b[1;32m     10\u001b[0m sample_drawing \u001b[38;5;241m=\u001b[39m selected_row[\u001b[38;5;124m\"\u001b[39m\u001b[38;5;124mdrawing\u001b[39m\u001b[38;5;124m\"\u001b[39m]\n\u001b[1;32m     11\u001b[0m \u001b[38;5;28mprint\u001b[39m(\u001b[38;5;124mf\u001b[39m\u001b[38;5;124m\"\u001b[39m\u001b[38;5;124mThere are totally \u001b[39m\u001b[38;5;132;01m{\u001b[39;00m\u001b[38;5;28mlen\u001b[39m(sample_drawing)\u001b[38;5;132;01m}\u001b[39;00m\u001b[38;5;124m strokes in the sample drawing\u001b[39m\u001b[38;5;124m\"\u001b[39m)\n",
      "File \u001b[0;32m~/anaconda3/lib/python3.11/json/__init__.py:346\u001b[0m, in \u001b[0;36mloads\u001b[0;34m(s, cls, object_hook, parse_float, parse_int, parse_constant, object_pairs_hook, **kw)\u001b[0m\n\u001b[1;32m    341\u001b[0m     s \u001b[38;5;241m=\u001b[39m s\u001b[38;5;241m.\u001b[39mdecode(detect_encoding(s), \u001b[38;5;124m'\u001b[39m\u001b[38;5;124msurrogatepass\u001b[39m\u001b[38;5;124m'\u001b[39m)\n\u001b[1;32m    343\u001b[0m \u001b[38;5;28;01mif\u001b[39;00m (\u001b[38;5;28mcls\u001b[39m \u001b[38;5;129;01mis\u001b[39;00m \u001b[38;5;28;01mNone\u001b[39;00m \u001b[38;5;129;01mand\u001b[39;00m object_hook \u001b[38;5;129;01mis\u001b[39;00m \u001b[38;5;28;01mNone\u001b[39;00m \u001b[38;5;129;01mand\u001b[39;00m\n\u001b[1;32m    344\u001b[0m         parse_int \u001b[38;5;129;01mis\u001b[39;00m \u001b[38;5;28;01mNone\u001b[39;00m \u001b[38;5;129;01mand\u001b[39;00m parse_float \u001b[38;5;129;01mis\u001b[39;00m \u001b[38;5;28;01mNone\u001b[39;00m \u001b[38;5;129;01mand\u001b[39;00m\n\u001b[1;32m    345\u001b[0m         parse_constant \u001b[38;5;129;01mis\u001b[39;00m \u001b[38;5;28;01mNone\u001b[39;00m \u001b[38;5;129;01mand\u001b[39;00m object_pairs_hook \u001b[38;5;129;01mis\u001b[39;00m \u001b[38;5;28;01mNone\u001b[39;00m \u001b[38;5;129;01mand\u001b[39;00m \u001b[38;5;129;01mnot\u001b[39;00m kw):\n\u001b[0;32m--> 346\u001b[0m     \u001b[38;5;28;01mreturn\u001b[39;00m _default_decoder\u001b[38;5;241m.\u001b[39mdecode(s)\n\u001b[1;32m    347\u001b[0m \u001b[38;5;28;01mif\u001b[39;00m \u001b[38;5;28mcls\u001b[39m \u001b[38;5;129;01mis\u001b[39;00m \u001b[38;5;28;01mNone\u001b[39;00m:\n\u001b[1;32m    348\u001b[0m     \u001b[38;5;28mcls\u001b[39m \u001b[38;5;241m=\u001b[39m JSONDecoder\n",
      "File \u001b[0;32m~/anaconda3/lib/python3.11/json/decoder.py:337\u001b[0m, in \u001b[0;36mJSONDecoder.decode\u001b[0;34m(self, s, _w)\u001b[0m\n\u001b[1;32m    332\u001b[0m \u001b[38;5;28;01mdef\u001b[39;00m \u001b[38;5;21mdecode\u001b[39m(\u001b[38;5;28mself\u001b[39m, s, _w\u001b[38;5;241m=\u001b[39mWHITESPACE\u001b[38;5;241m.\u001b[39mmatch):\n\u001b[1;32m    333\u001b[0m \u001b[38;5;250m    \u001b[39m\u001b[38;5;124;03m\"\"\"Return the Python representation of ``s`` (a ``str`` instance\u001b[39;00m\n\u001b[1;32m    334\u001b[0m \u001b[38;5;124;03m    containing a JSON document).\u001b[39;00m\n\u001b[1;32m    335\u001b[0m \n\u001b[1;32m    336\u001b[0m \u001b[38;5;124;03m    \"\"\"\u001b[39;00m\n\u001b[0;32m--> 337\u001b[0m     obj, end \u001b[38;5;241m=\u001b[39m \u001b[38;5;28mself\u001b[39m\u001b[38;5;241m.\u001b[39mraw_decode(s, idx\u001b[38;5;241m=\u001b[39m_w(s, \u001b[38;5;241m0\u001b[39m)\u001b[38;5;241m.\u001b[39mend())\n\u001b[1;32m    338\u001b[0m     end \u001b[38;5;241m=\u001b[39m _w(s, end)\u001b[38;5;241m.\u001b[39mend()\n\u001b[1;32m    339\u001b[0m     \u001b[38;5;28;01mif\u001b[39;00m end \u001b[38;5;241m!=\u001b[39m \u001b[38;5;28mlen\u001b[39m(s):\n",
      "File \u001b[0;32m~/anaconda3/lib/python3.11/json/decoder.py:355\u001b[0m, in \u001b[0;36mJSONDecoder.raw_decode\u001b[0;34m(self, s, idx)\u001b[0m\n\u001b[1;32m    353\u001b[0m     obj, end \u001b[38;5;241m=\u001b[39m \u001b[38;5;28mself\u001b[39m\u001b[38;5;241m.\u001b[39mscan_once(s, idx)\n\u001b[1;32m    354\u001b[0m \u001b[38;5;28;01mexcept\u001b[39;00m \u001b[38;5;167;01mStopIteration\u001b[39;00m \u001b[38;5;28;01mas\u001b[39;00m err:\n\u001b[0;32m--> 355\u001b[0m     \u001b[38;5;28;01mraise\u001b[39;00m JSONDecodeError(\u001b[38;5;124m\"\u001b[39m\u001b[38;5;124mExpecting value\u001b[39m\u001b[38;5;124m\"\u001b[39m, s, err\u001b[38;5;241m.\u001b[39mvalue) \u001b[38;5;28;01mfrom\u001b[39;00m \u001b[38;5;28;01mNone\u001b[39;00m\n\u001b[1;32m    356\u001b[0m \u001b[38;5;28;01mreturn\u001b[39;00m obj, end\n",
      "\u001b[0;31mJSONDecodeError\u001b[0m: Expecting value: line 1 column 1 (char 0)"
     ]
    }
   ],
   "source": [
    "ndjson_file_path = 'full_raw_The_Eiffel_Tower.ndjson'\n",
    "\n",
    "# Select the line to read as the sample drawing\n",
    "line_number = 1\n",
    "# Use linecache to get the specific line\n",
    "line = linecache.getline(ndjson_file_path, line_number).strip()\n",
    "# Parse the JSON content from the line\n",
    "selected_row = json.loads(line)\n",
    "\n",
    "sample_drawing = selected_row[\"drawing\"]\n",
    "print(f\"There are totally {len(sample_drawing)} strokes in the sample drawing\")"
   ]
  },
  {
   "cell_type": "code",
   "execution_count": null,
   "metadata": {},
   "outputs": [],
   "source": [
    "# Sequence length for each stroke\n",
    "[len(i[0]) for i in sample_drawing]"
   ]
  },
  {
   "cell_type": "code",
   "execution_count": null,
   "metadata": {},
   "outputs": [],
   "source": [
    "# Preprocess the drawing\n",
    "drawing_normalized = size_normalization(sample_drawing)\n",
    "drawing_resampled = resample_ink(drawing_normalized)"
   ]
  },
  {
   "cell_type": "markdown",
   "metadata": {},
   "source": [
    "Convert the input format and shape:"
   ]
  },
  {
   "cell_type": "code",
   "execution_count": null,
   "metadata": {},
   "outputs": [],
   "source": [
    "# Define a function to formalize the input shape to be used in `encode_stroke` signature\n",
    "# Specifically, the shape of `input_seq_len` is (None, ) and the shape of input_stroke is (None, None, 3) \n",
    "def formalize_input(stroke):\n",
    "    input_stroke_tensor = tf.convert_to_tensor([stroke], dtype=tf.float32) # Add an extra dimension for batch size\n",
    "    input_seq_len_tensor = tf.convert_to_tensor([len(stroke)], dtype=tf.int32)\n",
    "\n",
    "    return input_seq_len_tensor, input_stroke_tensor"
   ]
  },
  {
   "cell_type": "markdown",
   "metadata": {},
   "source": [
    "# Use pretrained model for prediction"
   ]
  },
  {
   "cell_type": "markdown",
   "metadata": {},
   "source": [
    "## Try the forward_pass signature"
   ]
  },
  {
   "cell_type": "code",
   "execution_count": 23,
   "metadata": {},
   "outputs": [
    {
     "data": {
      "text/plain": [
       "<ConcreteFunction signature_wrapper(input_seq_len, input_stroke, target_seq_len) at 0x2E47E3F50>"
      ]
     },
     "execution_count": 23,
     "metadata": {},
     "output_type": "execute_result"
    }
   ],
   "source": [
    "forward_pass = model.signatures[\"forward_pass\"]\n",
    "forward_pass"
   ]
  },
  {
   "cell_type": "code",
   "execution_count": 24,
   "metadata": {},
   "outputs": [
    {
     "data": {
      "text/plain": [
       "{'seq_len': <tf.Tensor: shape=(2,), dtype=int32, numpy=array([115, 115], dtype=int32)>,\n",
       " 'stroke': <tf.Tensor: shape=(2, 115, 2), dtype=float32, numpy=\n",
       " array([[[ 3.92613381e-01, -7.93494463e-01],\n",
       "         [-5.86910665e-01, -9.25188959e-02],\n",
       "         [-9.52612936e-01, -2.43712232e-01],\n",
       "         [-1.45443511e+00, -7.41698205e-01],\n",
       "         [-1.70019710e+00, -8.41592789e-01],\n",
       "         [-1.75602579e+00, -4.37431753e-01],\n",
       "         [-1.87628913e+00,  2.85213172e-01],\n",
       "         [-1.97729564e+00,  1.13298178e+00],\n",
       "         [-1.92021155e+00,  2.05082965e+00],\n",
       "         [-1.84897768e+00,  3.21108484e+00],\n",
       "         [-1.63316345e+00,  4.27400064e+00],\n",
       "         [-1.46660614e+00,  5.36938953e+00],\n",
       "         [-1.36392856e+00,  6.29164886e+00],\n",
       "         [-1.33860040e+00,  7.19803953e+00],\n",
       "         [-1.30484819e+00,  8.00941086e+00],\n",
       "         [-1.18475783e+00,  8.63651752e+00],\n",
       "         [-1.12710881e+00,  9.27975368e+00],\n",
       "         [-1.09053874e+00,  9.87997055e+00],\n",
       "         [-1.04984343e+00,  1.03945599e+01],\n",
       "         [-9.96812642e-01,  1.09725981e+01],\n",
       "         [-9.43076193e-01,  1.14166374e+01],\n",
       "         [-9.19366360e-01,  1.17567940e+01],\n",
       "         [-9.10016060e-01,  1.20841637e+01],\n",
       "         [-8.67418289e-01,  1.23755703e+01],\n",
       "         [-7.82827318e-01,  1.26056547e+01],\n",
       "         [-6.99281573e-01,  1.28030272e+01],\n",
       "         [-6.54919863e-01,  1.29214659e+01],\n",
       "         [-5.39376557e-01,  1.29250422e+01],\n",
       "         [-4.49611723e-01,  1.28819876e+01],\n",
       "         [-3.96344125e-01,  1.28036280e+01],\n",
       "         [-3.51716220e-01,  1.26783333e+01],\n",
       "         [-2.87935972e-01,  1.24126225e+01],\n",
       "         [-1.26016185e-01,  1.20544424e+01],\n",
       "         [-2.68064588e-02,  1.15865002e+01],\n",
       "         [ 6.73750192e-02,  1.10411720e+01],\n",
       "         [ 1.35812595e-01,  1.05118065e+01],\n",
       "         [ 8.86449963e-02,  1.00489807e+01],\n",
       "         [ 6.34421855e-02,  9.56146431e+00],\n",
       "         [ 1.21279255e-01,  8.99744320e+00],\n",
       "         [ 2.21888319e-01,  8.37827778e+00],\n",
       "         [ 3.64792466e-01,  7.74415684e+00],\n",
       "         [ 5.70726275e-01,  7.15137339e+00],\n",
       "         [ 8.05983365e-01,  6.52174091e+00],\n",
       "         [ 1.01585519e+00,  5.86889505e+00],\n",
       "         [ 1.27237415e+00,  5.22492504e+00],\n",
       "         [-6.40033007e-01, -1.00842867e+01],\n",
       "         [-4.33826387e-01, -1.06521940e+01],\n",
       "         [-2.59021848e-01, -1.12126150e+01],\n",
       "         [-1.01222187e-01, -1.17186728e+01],\n",
       "         [ 9.87572372e-02, -1.22220278e+01],\n",
       "         [ 3.02706540e-01, -1.26811180e+01],\n",
       "         [ 5.03745914e-01, -1.31093378e+01],\n",
       "         [ 7.32959628e-01, -1.34939203e+01],\n",
       "         [ 9.67002511e-01, -1.38538208e+01],\n",
       "         [ 1.09998834e+00, -1.41720610e+01],\n",
       "         [ 1.22862899e+00, -1.44928055e+01],\n",
       "         [ 1.33046675e+00, -1.47975855e+01],\n",
       "         [ 1.51082265e+00, -1.51119709e+01],\n",
       "         [ 1.68780673e+00, -1.53710432e+01],\n",
       "         [ 1.82262623e+00, -1.56050043e+01],\n",
       "         [ 1.95515478e+00, -1.57884750e+01],\n",
       "         [ 2.07599711e+00, -1.59650612e+01],\n",
       "         [ 2.21816850e+00, -1.61385975e+01],\n",
       "         [ 2.33959627e+00, -1.63142300e+01],\n",
       "         [ 2.42169881e+00, -1.65160751e+01],\n",
       "         [ 2.47678256e+00, -1.66983280e+01],\n",
       "         [ 2.54718256e+00, -1.68377819e+01],\n",
       "         [ 2.62960792e+00, -1.69557724e+01],\n",
       "         [ 2.64725041e+00, -1.70821342e+01],\n",
       "         [ 2.67445731e+00, -1.71926231e+01],\n",
       "         [ 2.75252485e+00, -1.72939205e+01],\n",
       "         [ 2.84372973e+00, -1.73826733e+01],\n",
       "         [ 2.95013833e+00, -1.74187527e+01],\n",
       "         [ 3.04953313e+00, -1.74439125e+01],\n",
       "         [ 3.12775612e+00, -1.74752197e+01],\n",
       "         [ 3.20883894e+00, -1.75133266e+01],\n",
       "         [ 3.26202989e+00, -1.75198936e+01],\n",
       "         [ 3.35377574e+00, -1.75083256e+01],\n",
       "         [ 3.45525432e+00, -1.74249973e+01],\n",
       "         [ 3.56428552e+00, -1.72331600e+01],\n",
       "         [ 3.67182088e+00, -1.70156307e+01],\n",
       "         [ 3.82181048e+00, -1.67453232e+01],\n",
       "         [ 3.96047187e+00, -1.64859695e+01],\n",
       "         [ 4.09277773e+00, -1.62044907e+01],\n",
       "         [ 4.20310450e+00, -1.59209757e+01],\n",
       "         [ 4.29735565e+00, -1.56511154e+01],\n",
       "         [ 4.33429718e+00, -1.53683281e+01],\n",
       "         [ 4.35987759e+00, -1.50734978e+01],\n",
       "         [ 4.38207626e+00, -1.47781582e+01],\n",
       "         [ 4.37955427e+00, -1.44530830e+01],\n",
       "         [ 4.36252069e+00, -1.41182108e+01],\n",
       "         [ 4.34209490e+00, -1.37695112e+01],\n",
       "         [ 4.26929235e+00, -1.34152651e+01],\n",
       "         [ 3.48184347e+00,  2.87727308e+00],\n",
       "         [ 3.20554948e+00,  3.22608781e+00],\n",
       "         [ 2.96436548e+00,  3.55643868e+00],\n",
       "         [ 2.76455879e+00,  3.91328025e+00],\n",
       "         [ 2.59642959e+00,  4.25414944e+00],\n",
       "         [ 2.43406940e+00,  4.56075954e+00],\n",
       "         [ 2.28089619e+00,  4.81640100e+00],\n",
       "         [ 2.09967589e+00,  5.04922390e+00],\n",
       "         [ 1.90412486e+00,  5.30910826e+00],\n",
       "         [ 1.72620213e+00,  5.56944752e+00],\n",
       "         [ 1.54881096e+00,  5.82057238e+00],\n",
       "         [ 1.35912704e+00,  6.03631830e+00],\n",
       "         [ 1.16570663e+00,  6.23207855e+00],\n",
       "         [ 1.58407080e+00, -2.42060781e-01],\n",
       "         [ 1.48601651e+00,  2.99715176e-02],\n",
       "         [ 6.78720951e-01,  6.51983023e+00],\n",
       "         [ 5.31282902e-01,  6.59679317e+00],\n",
       "         [ 3.86000961e-01,  6.64332390e+00],\n",
       "         [ 2.51296490e-01,  6.66904640e+00],\n",
       "         [ 1.15330905e-01,  6.71625805e+00],\n",
       "         [-3.57368290e-02,  6.76529026e+00],\n",
       "         [-1.83041602e-01,  6.79377508e+00]],\n",
       " \n",
       "        [[-6.41231984e-03, -6.94086373e-01],\n",
       "         [-1.07772279e+00, -2.58977599e-02],\n",
       "         [-1.71020174e+00, -2.55322129e-01],\n",
       "         [-2.40241981e+00, -6.46234214e-01],\n",
       "         [-3.02283955e+00, -5.80230057e-01],\n",
       "         [-3.40276241e+00, -2.52956510e-01],\n",
       "         [-3.42699385e+00,  1.76648274e-01],\n",
       "         [-3.52441359e+00,  7.44662046e-01],\n",
       "         [-2.42190099e+00, -3.52283239e+00],\n",
       "         [-2.30978727e+00, -2.99147868e+00],\n",
       "         [-3.68048120e+00,  3.63239098e+00],\n",
       "         [-3.53430438e+00,  4.74240971e+00],\n",
       "         [-3.42505693e+00,  5.67801571e+00],\n",
       "         [-3.35743642e+00,  6.65414143e+00],\n",
       "         [-3.34274268e+00,  7.53192902e+00],\n",
       "         [-3.27728057e+00,  8.32145786e+00],\n",
       "         [-3.13918638e+00,  8.99427319e+00],\n",
       "         [-3.00215507e+00,  9.72186279e+00],\n",
       "         [-2.91019344e+00,  1.04480829e+01],\n",
       "         [-2.75603390e+00,  1.12385216e+01],\n",
       "         [-2.65047193e+00,  1.19313059e+01],\n",
       "         [-2.55379486e+00,  1.25122328e+01],\n",
       "         [-2.46851134e+00,  1.29203377e+01],\n",
       "         [-2.39828372e+00,  1.32687159e+01],\n",
       "         [-2.32312965e+00,  1.35804024e+01],\n",
       "         [-2.25858212e+00,  1.38309641e+01],\n",
       "         [-2.16087770e+00,  1.39976387e+01],\n",
       "         [-2.04747510e+00,  1.41655178e+01],\n",
       "         [-1.96875429e+00,  1.42841635e+01],\n",
       "         [-1.86121011e+00,  1.43395767e+01],\n",
       "         [-1.71527314e+00,  1.43609657e+01],\n",
       "         [-1.54182124e+00,  1.43310871e+01],\n",
       "         [-1.35868287e+00,  1.42390385e+01],\n",
       "         [-1.16207480e+00,  1.41328516e+01],\n",
       "         [-8.94642830e-01,  1.39799061e+01],\n",
       "         [-6.07545435e-01,  1.36662865e+01],\n",
       "         [-3.83514345e-01,  1.34020281e+01],\n",
       "         [-2.25458249e-01,  1.31356535e+01],\n",
       "         [-6.31982535e-02,  1.28580790e+01],\n",
       "         [ 1.28895774e-01,  1.25738401e+01],\n",
       "         [ 3.93968046e-01,  1.21852255e+01],\n",
       "         [ 7.55136847e-01,  1.17232361e+01],\n",
       "         [ 1.01329231e+00,  1.12533379e+01],\n",
       "         [ 1.23621130e+00,  1.06934862e+01],\n",
       "         [-1.66689962e-01, -5.76524687e+00],\n",
       "         [-4.84189540e-02, -6.30657101e+00],\n",
       "         [ 6.36026412e-02, -6.88708210e+00],\n",
       "         [ 2.35468730e-01, -7.41931963e+00],\n",
       "         [ 4.06364083e-01, -7.94374609e+00],\n",
       "         [ 5.64866245e-01, -8.44057083e+00],\n",
       "         [ 7.55600393e-01, -8.88589001e+00],\n",
       "         [ 9.94850278e-01, -9.25762367e+00],\n",
       "         [ 1.18497741e+00, -9.58907032e+00],\n",
       "         [ 1.27889168e+00, -9.87932396e+00],\n",
       "         [ 1.33081055e+00, -1.01267643e+01],\n",
       "         [ 1.36817729e+00, -1.03812027e+01],\n",
       "         [ 1.39567137e+00, -1.07029552e+01],\n",
       "         [ 1.44719303e+00, -1.10541229e+01],\n",
       "         [ 1.52043557e+00, -1.14135475e+01],\n",
       "         [ 1.53337002e+00, -1.17511921e+01],\n",
       "         [ 1.52404583e+00, -1.20025320e+01],\n",
       "         [ 1.49270713e+00, -1.21721458e+01],\n",
       "         [ 1.51098096e+00, -1.23318882e+01],\n",
       "         [ 1.54644644e+00, -1.24755173e+01],\n",
       "         [ 1.56945825e+00, -1.25744610e+01],\n",
       "         [ 1.60366213e+00, -1.26330862e+01],\n",
       "         [ 1.60304701e+00, -1.27251644e+01],\n",
       "         [ 1.54800498e+00, -1.28674917e+01],\n",
       "         [ 1.54844701e+00, -1.29927101e+01],\n",
       "         [ 1.53540409e+00, -1.31199169e+01],\n",
       "         [ 1.52528393e+00, -1.32106819e+01],\n",
       "         [ 1.55153239e+00, -1.32902908e+01],\n",
       "         [ 1.60917008e+00, -1.33538017e+01],\n",
       "         [ 1.69183433e+00, -1.33967972e+01],\n",
       "         [ 1.78441525e+00, -1.34352913e+01],\n",
       "         [ 1.88723457e+00, -1.34141960e+01],\n",
       "         [ 1.99894106e+00, -1.33296204e+01],\n",
       "         [ 2.11386681e+00, -1.32270823e+01],\n",
       "         [ 2.18327165e+00, -1.30928812e+01],\n",
       "         [ 2.18797898e+00, -1.29406042e+01],\n",
       "         [ 2.21063328e+00, -1.27846737e+01],\n",
       "         [ 2.16923928e+00, -1.26681366e+01],\n",
       "         [ 2.14287424e+00, -1.25177364e+01],\n",
       "         [ 2.15463543e+00, -1.23259516e+01],\n",
       "         [ 2.19930196e+00, -1.20999088e+01],\n",
       "         [ 2.24156499e+00, -1.18698215e+01],\n",
       "         [ 2.47505212e+00,  3.70121455e+00],\n",
       "         [ 2.32042599e+00,  3.89234996e+00],\n",
       "         [ 2.14674211e+00,  4.08515596e+00],\n",
       "         [ 1.93511379e+00,  4.36482811e+00],\n",
       "         [ 1.71923089e+00,  4.63349199e+00],\n",
       "         [ 1.51272237e+00,  4.88318586e+00],\n",
       "         [ 1.29009473e+00,  5.13617802e+00],\n",
       "         [ 1.08239007e+00,  5.34987020e+00],\n",
       "         [ 8.83094549e-01,  5.57592344e+00],\n",
       "         [ 6.20745659e-01,  5.75435734e+00],\n",
       "         [ 3.57798427e-01,  5.87966585e+00],\n",
       "         [ 1.41187042e-01,  5.97171688e+00],\n",
       "         [-3.47615182e-02,  6.04641581e+00],\n",
       "         [-2.00648934e-01,  6.15120316e+00],\n",
       "         [-3.49417657e-01,  6.27145004e+00],\n",
       "         [-4.82270449e-01,  6.39457369e+00],\n",
       "         [-6.04208946e-01,  6.54488230e+00],\n",
       "         [-7.20417261e-01,  6.68956280e+00],\n",
       "         [-8.45748305e-01,  6.77799177e+00],\n",
       "         [-9.84802008e-01,  6.82147789e+00],\n",
       "         [-1.13261342e+00,  6.82786274e+00],\n",
       "         [-1.30081928e+00,  6.86143732e+00],\n",
       "         [-1.48708832e+00,  6.89657974e+00],\n",
       "         [-1.66111183e+00,  6.93661785e+00],\n",
       "         [-1.83011615e+00,  6.97610474e+00],\n",
       "         [-1.99033368e+00,  7.00648308e+00],\n",
       "         [-2.15004230e+00,  7.02734137e+00],\n",
       "         [-2.29198956e+00,  7.04266357e+00],\n",
       "         [-2.43006492e+00,  7.05350256e+00]]], dtype=float32)>,\n",
       " 'embedding_sample': <tf.Tensor: shape=(2, 8), dtype=float32, numpy=\n",
       " array([[ 1.0598364 ,  0.8110338 ,  0.5938214 , -1.4331652 ,  0.13301189,\n",
       "         -0.05953535,  0.7001372 , -0.03325661],\n",
       "        [ 1.1040605 ,  0.7345731 ,  0.48906416, -1.4678141 ,  0.15908922,\n",
       "         -0.0759794 ,  0.7854106 , -0.13759997]], dtype=float32)>,\n",
       " 'pen': <tf.Tensor: shape=(2, 115, 1), dtype=float32, numpy=\n",
       " array([[[1.],\n",
       "         [0.],\n",
       "         [0.],\n",
       "         [1.],\n",
       "         [0.],\n",
       "         [0.],\n",
       "         [1.],\n",
       "         [0.],\n",
       "         [1.],\n",
       "         [1.],\n",
       "         [0.],\n",
       "         [0.],\n",
       "         [1.],\n",
       "         [1.],\n",
       "         [1.],\n",
       "         [0.],\n",
       "         [1.],\n",
       "         [0.],\n",
       "         [1.],\n",
       "         [0.],\n",
       "         [1.],\n",
       "         [1.],\n",
       "         [0.],\n",
       "         [0.],\n",
       "         [1.],\n",
       "         [1.],\n",
       "         [1.],\n",
       "         [1.],\n",
       "         [1.],\n",
       "         [0.],\n",
       "         [0.],\n",
       "         [0.],\n",
       "         [1.],\n",
       "         [0.],\n",
       "         [1.],\n",
       "         [0.],\n",
       "         [1.],\n",
       "         [1.],\n",
       "         [1.],\n",
       "         [1.],\n",
       "         [1.],\n",
       "         [0.],\n",
       "         [1.],\n",
       "         [1.],\n",
       "         [0.],\n",
       "         [0.],\n",
       "         [1.],\n",
       "         [0.],\n",
       "         [1.],\n",
       "         [0.],\n",
       "         [0.],\n",
       "         [0.],\n",
       "         [1.],\n",
       "         [1.],\n",
       "         [1.],\n",
       "         [1.],\n",
       "         [0.],\n",
       "         [0.],\n",
       "         [0.],\n",
       "         [1.],\n",
       "         [0.],\n",
       "         [1.],\n",
       "         [0.],\n",
       "         [0.],\n",
       "         [0.],\n",
       "         [1.],\n",
       "         [0.],\n",
       "         [0.],\n",
       "         [1.],\n",
       "         [0.],\n",
       "         [0.],\n",
       "         [0.],\n",
       "         [1.],\n",
       "         [1.],\n",
       "         [0.],\n",
       "         [0.],\n",
       "         [0.],\n",
       "         [1.],\n",
       "         [1.],\n",
       "         [1.],\n",
       "         [1.],\n",
       "         [0.],\n",
       "         [1.],\n",
       "         [1.],\n",
       "         [0.],\n",
       "         [0.],\n",
       "         [1.],\n",
       "         [1.],\n",
       "         [1.],\n",
       "         [0.],\n",
       "         [1.],\n",
       "         [1.],\n",
       "         [0.],\n",
       "         [1.],\n",
       "         [0.],\n",
       "         [0.],\n",
       "         [0.],\n",
       "         [1.],\n",
       "         [1.],\n",
       "         [0.],\n",
       "         [1.],\n",
       "         [0.],\n",
       "         [1.],\n",
       "         [0.],\n",
       "         [0.],\n",
       "         [0.],\n",
       "         [0.],\n",
       "         [1.],\n",
       "         [1.],\n",
       "         [1.],\n",
       "         [0.],\n",
       "         [1.],\n",
       "         [1.],\n",
       "         [0.],\n",
       "         [0.]],\n",
       " \n",
       "        [[1.],\n",
       "         [0.],\n",
       "         [1.],\n",
       "         [0.],\n",
       "         [0.],\n",
       "         [1.],\n",
       "         [0.],\n",
       "         [0.],\n",
       "         [1.],\n",
       "         [0.],\n",
       "         [1.],\n",
       "         [0.],\n",
       "         [0.],\n",
       "         [1.],\n",
       "         [0.],\n",
       "         [1.],\n",
       "         [0.],\n",
       "         [1.],\n",
       "         [1.],\n",
       "         [0.],\n",
       "         [0.],\n",
       "         [1.],\n",
       "         [1.],\n",
       "         [1.],\n",
       "         [1.],\n",
       "         [0.],\n",
       "         [0.],\n",
       "         [1.],\n",
       "         [0.],\n",
       "         [1.],\n",
       "         [1.],\n",
       "         [1.],\n",
       "         [0.],\n",
       "         [0.],\n",
       "         [0.],\n",
       "         [0.],\n",
       "         [1.],\n",
       "         [1.],\n",
       "         [0.],\n",
       "         [0.],\n",
       "         [1.],\n",
       "         [1.],\n",
       "         [0.],\n",
       "         [1.],\n",
       "         [1.],\n",
       "         [1.],\n",
       "         [0.],\n",
       "         [0.],\n",
       "         [1.],\n",
       "         [0.],\n",
       "         [1.],\n",
       "         [0.],\n",
       "         [1.],\n",
       "         [0.],\n",
       "         [1.],\n",
       "         [0.],\n",
       "         [0.],\n",
       "         [0.],\n",
       "         [1.],\n",
       "         [0.],\n",
       "         [1.],\n",
       "         [0.],\n",
       "         [1.],\n",
       "         [1.],\n",
       "         [1.],\n",
       "         [1.],\n",
       "         [0.],\n",
       "         [0.],\n",
       "         [1.],\n",
       "         [1.],\n",
       "         [1.],\n",
       "         [0.],\n",
       "         [1.],\n",
       "         [1.],\n",
       "         [1.],\n",
       "         [1.],\n",
       "         [0.],\n",
       "         [1.],\n",
       "         [0.],\n",
       "         [0.],\n",
       "         [0.],\n",
       "         [0.],\n",
       "         [0.],\n",
       "         [0.],\n",
       "         [1.],\n",
       "         [1.],\n",
       "         [1.],\n",
       "         [0.],\n",
       "         [1.],\n",
       "         [1.],\n",
       "         [1.],\n",
       "         [0.],\n",
       "         [1.],\n",
       "         [1.],\n",
       "         [1.],\n",
       "         [0.],\n",
       "         [1.],\n",
       "         [1.],\n",
       "         [1.],\n",
       "         [1.],\n",
       "         [0.],\n",
       "         [1.],\n",
       "         [1.],\n",
       "         [0.],\n",
       "         [0.],\n",
       "         [1.],\n",
       "         [1.],\n",
       "         [1.],\n",
       "         [0.],\n",
       "         [1.],\n",
       "         [0.],\n",
       "         [1.],\n",
       "         [0.],\n",
       "         [1.],\n",
       "         [0.]]], dtype=float32)>}"
      ]
     },
     "execution_count": 24,
     "metadata": {},
     "output_type": "execute_result"
    }
   ],
   "source": [
    "forward_pass(input_seq_len=tf.cast(stroke_length[:2], tf.int32), \n",
    "             input_stroke=reshaped_ink[:2, :, :3],\n",
    "             target_seq_len=tf.cast(stroke_length[2], tf.int32))"
   ]
  },
  {
   "cell_type": "markdown",
   "metadata": {},
   "source": [
    "## Try the encode_stroke signature"
   ]
  },
  {
   "cell_type": "code",
   "execution_count": 30,
   "metadata": {},
   "outputs": [
    {
     "name": "stdout",
     "output_type": "stream",
     "text": [
      "<ConcreteFunction signature_wrapper(input_seq_len, input_stroke) at 0x2D190F990>\n"
     ]
    }
   ],
   "source": [
    "encode_stroke = model.signatures[\"encode_stroke\"]\n",
    "print(encode_stroke)"
   ]
  },
  {
   "cell_type": "code",
   "execution_count": 76,
   "metadata": {},
   "outputs": [
    {
     "data": {
      "text/plain": [
       "<tf.Tensor: shape=(5,), dtype=int64, numpy=array([ 35, 146, 115,  24,  12])>"
      ]
     },
     "execution_count": 76,
     "metadata": {},
     "output_type": "execute_result"
    }
   ],
   "source": [
    "stroke_length"
   ]
  },
  {
   "cell_type": "code",
   "execution_count": 68,
   "metadata": {},
   "outputs": [],
   "source": [
    "encoded_result = encode_stroke(input_seq_len=tf.cast(stroke_length[:2], tf.int32), \n",
    "                               input_stroke=reshaped_ink[:2, :, :3])"
   ]
  },
  {
   "cell_type": "code",
   "execution_count": 73,
   "metadata": {},
   "outputs": [
    {
     "data": {
      "text/plain": [
       "{'embedding_sample': <tf.Tensor: shape=(2, 8), dtype=float32, numpy=\n",
       " array([[-0.41186208,  0.04630256,  0.27790904, -0.35810527,  0.12023411,\n",
       "          0.04479783,  0.5792326 , -0.0743523 ],\n",
       "        [-0.19375654,  0.11166515,  0.32818416, -0.3925045 ,  0.08297401,\n",
       "          0.0369945 ,  0.2607878 ,  0.02406133]], dtype=float32)>}"
      ]
     },
     "execution_count": 73,
     "metadata": {},
     "output_type": "execute_result"
    }
   ],
   "source": [
    "selected_strokes = tf.gather(reshaped_ink[:2, :, :], indices=[0, 1, 3], axis=2)\n",
    "encoded_result = encode_stroke(\n",
    "    input_seq_len=tf.cast(stroke_length[:2], tf.int32),\n",
    "    input_stroke=selected_strokes\n",
    ")\n",
    "\n",
    "encoded_result"
   ]
  },
  {
   "cell_type": "code",
   "execution_count": 27,
   "metadata": {},
   "outputs": [
    {
     "data": {
      "text/plain": [
       "<ConcreteFunction signature_wrapper(embedding_sample, target_seq_len) at 0x2C5BCB290>"
      ]
     },
     "execution_count": 27,
     "metadata": {},
     "output_type": "execute_result"
    }
   ],
   "source": [
    "decode_stroke = model.signatures[\"decode_stroke\"]\n",
    "decode_stroke"
   ]
  },
  {
   "cell_type": "code",
   "execution_count": 77,
   "metadata": {},
   "outputs": [
    {
     "data": {
      "text/plain": [
       "{'stroke': <tf.Tensor: shape=(1, 35, 2), dtype=float32, numpy=\n",
       " array([[[-0.3002945 , -0.2600997 ],\n",
       "         [-0.2436088 , -0.0743974 ],\n",
       "         [-0.1585453 ,  0.20106155],\n",
       "         [ 0.06200197,  0.6052293 ],\n",
       "         [ 0.09469563,  0.7222972 ],\n",
       "         [ 0.16872735,  0.80795455],\n",
       "         [ 0.22984298,  0.87523746],\n",
       "         [ 0.29548645,  0.9469648 ],\n",
       "         [ 0.334903  ,  0.9938505 ],\n",
       "         [ 0.35303187,  1.0033866 ],\n",
       "         [ 0.37625122,  0.993007  ],\n",
       "         [ 0.3992777 ,  0.99916834],\n",
       "         [ 0.41881937,  1.0045273 ],\n",
       "         [ 0.4253263 ,  1.0105747 ],\n",
       "         [ 0.5687181 ,  1.0263258 ],\n",
       "         [ 0.61307704,  1.0331136 ],\n",
       "         [ 0.6839474 ,  1.0538092 ],\n",
       "         [ 0.76991355,  1.0786796 ],\n",
       "         [ 0.8285123 ,  1.086806  ],\n",
       "         [ 0.8788113 ,  1.0879885 ],\n",
       "         [ 0.94464105,  1.0897942 ],\n",
       "         [ 1.0021603 ,  1.0928779 ],\n",
       "         [ 1.0399858 ,  1.0818081 ],\n",
       "         [ 1.0912296 ,  1.0811591 ],\n",
       "         [ 1.0398675 ,  1.1072221 ],\n",
       "         [ 1.0969592 ,  1.0129114 ],\n",
       "         [ 1.0472722 ,  0.95787555],\n",
       "         [ 0.9731517 ,  0.90383595],\n",
       "         [ 0.9260229 ,  0.68071586],\n",
       "         [ 0.66279113,  0.6173582 ],\n",
       "         [ 0.58328474,  0.6112959 ],\n",
       "         [ 0.49538133,  0.6239022 ],\n",
       "         [ 0.4189627 ,  0.66238284],\n",
       "         [ 0.33917493,  0.69284946],\n",
       "         [ 0.25023308,  0.7160665 ]]], dtype=float32)>,\n",
       " 'pen': <tf.Tensor: shape=(1, 35, 1), dtype=float32, numpy=\n",
       " array([[[1.],\n",
       "         [1.],\n",
       "         [0.],\n",
       "         [1.],\n",
       "         [1.],\n",
       "         [0.],\n",
       "         [0.],\n",
       "         [1.],\n",
       "         [1.],\n",
       "         [0.],\n",
       "         [0.],\n",
       "         [0.],\n",
       "         [0.],\n",
       "         [0.],\n",
       "         [0.],\n",
       "         [0.],\n",
       "         [1.],\n",
       "         [1.],\n",
       "         [0.],\n",
       "         [0.],\n",
       "         [0.],\n",
       "         [1.],\n",
       "         [1.],\n",
       "         [0.],\n",
       "         [1.],\n",
       "         [0.],\n",
       "         [1.],\n",
       "         [1.],\n",
       "         [0.],\n",
       "         [0.],\n",
       "         [1.],\n",
       "         [1.],\n",
       "         [0.],\n",
       "         [0.],\n",
       "         [0.]]], dtype=float32)>,\n",
       " 'seq_len': <tf.Tensor: shape=(1,), dtype=int32, numpy=array([35], dtype=int32)>}"
      ]
     },
     "execution_count": 77,
     "metadata": {},
     "output_type": "execute_result"
    }
   ],
   "source": [
    "# Use the (real) next stroke to determine the target_seq_len for the decoder\n",
    "decode_result = decode_stroke(\n",
    "    embedding_sample = tf.expand_dims(encoded_result[\"embedding_sample\"][0,:], axis=0),\n",
    "    target_seq_len = tf.cast(stroke_length[0], tf.int32)\n",
    ")\n",
    "\n",
    "decode_result"
   ]
  },
  {
   "cell_type": "code",
   "execution_count": 88,
   "metadata": {},
   "outputs": [
    {
     "data": {
      "text/plain": [
       "[array([[-75.089836, -14.55835 ],\n",
       "        [-57.89508 ,  41.771667],\n",
       "        [-32.092342, 125.32802 ],\n",
       "        [ 34.80737 , 247.92625 ],\n",
       "        [ 44.724503, 283.43704 ],\n",
       "        [ 67.180916, 309.41992 ],\n",
       "        [ 85.71942 , 329.82916 ],\n",
       "        [105.631386, 351.5866  ],\n",
       "        [117.58781 , 365.80865 ],\n",
       "        [123.08693 , 368.7013  ],\n",
       "        [130.13017 , 365.5528  ],\n",
       "        [137.1149  , 367.42175 ],\n",
       "        [143.04257 , 369.0473  ],\n",
       "        [145.01636 , 370.8817  ],\n",
       "        [188.51212 , 375.65955 ],\n",
       "        [201.96774 , 377.71857 ],\n",
       "        [223.4652  , 383.99622 ],\n",
       "        [249.54175 , 391.54028 ],\n",
       "        [267.3168  , 394.00537 ],\n",
       "        [282.57425 , 394.364   ],\n",
       "        [302.54272 , 394.91174 ],\n",
       "        [319.99033 , 395.8471  ],\n",
       "        [331.4641  , 392.48926 ],\n",
       "        [347.00815 , 392.29242 ],\n",
       "        [331.42822 , 400.19824 ],\n",
       "        [348.74615 , 371.5905  ],\n",
       "        [333.67435 , 354.89618 ],\n",
       "        [311.19098 , 338.5041  ],\n",
       "        [296.89517 , 270.82397 ],\n",
       "        [217.04776 , 251.60538 ],\n",
       "        [192.9307  , 249.76645 ],\n",
       "        [166.26651 , 253.5904  ],\n",
       "        [143.08606 , 265.26294 ],\n",
       "        [118.88364 , 274.50452 ],\n",
       "        [ 91.90446 , 281.54706 ]], dtype=float32)]"
      ]
     },
     "execution_count": 88,
     "metadata": {},
     "output_type": "execute_result"
    }
   ],
   "source": [
    "undo_preprocessing(decode_result['stroke'], tf.expand_dims(stroke_length[0], axis=0), original_drawing)"
   ]
  },
  {
   "cell_type": "code",
   "execution_count": 109,
   "metadata": {},
   "outputs": [
    {
     "data": {
      "image/png": "[encoded data removed]",
      "text/plain": [
       "<PIL.Image.Image image mode=RGB size=240x270>"
      ]
     },
     "metadata": {},
     "output_type": "display_data"
    }
   ],
   "source": [
    "visualize_stroke(reversed_strokes[:5])"
   ]
  },
  {
   "cell_type": "code",
   "execution_count": null,
   "metadata": {},
   "outputs": [],
   "source": []
  },
  {
   "cell_type": "code",
   "execution_count": null,
   "metadata": {},
   "outputs": [],
   "source": [
    "# Lists to collect embeddings and positions\n",
    "embedding_sample_list = []\n",
    "inp_pos_list = []\n",
    "\n",
    "# Process only the first two strokes\n",
    "for stroke in drawing_resampled[:2]:\n",
    "    input_seq_len_tensor, input_stroke_tensor = formalize_input(stroke)\n",
    "    output = encode_stroke(input_seq_len=input_seq_len_tensor, \n",
    "                           input_stroke=input_stroke_tensor)\n",
    "    embedding_sample = output[\"embedding_sample\"]\n",
    "    \n",
    "    # Extract the first point's coordinates as position\n",
    "    inp_pos = [[stroke[0][0], stroke[1][0]]]\n",
    "    inp_pos_list.extend(inp_pos)\n",
    "    embedding_sample_list.append(embedding_sample)\n",
    "\n",
    "# Convert lists to tensors with the right shape\n",
    "inp_pos_tensor = tf.convert_to_tensor(inp_pos_list, dtype=tf.float32)  # Shape: (num_strokes, 2)\n",
    "inp_embeddings_tensor = tf.concat(embedding_sample_list, axis=0)  # Shape: (num_strokes, 8)\n",
    "\n",
    "# Add batch dimension\n",
    "inp_pos_tensor = tf.expand_dims(inp_pos_tensor, axis=0)  # Shape: (1, num_strokes, 2)\n",
    "inp_embeddings_tensor = tf.expand_dims(inp_embeddings_tensor, axis=0)  # Shape: (1, num_strokes, 8)"
   ]
  },
  {
   "cell_type": "markdown",
   "metadata": {},
   "source": [
    "## Try the predict_position signature"
   ]
  },
  {
   "cell_type": "code",
   "execution_count": null,
   "metadata": {},
   "outputs": [],
   "source": [
    "predict_position = model.signatures[\"predict_position\"]\n",
    "predict_position"
   ]
  },
  {
   "cell_type": "code",
   "execution_count": null,
   "metadata": {},
   "outputs": [],
   "source": [
    "predict_position_result = predict_position(inp_pos=inp_pos_tensor, \n",
    "                                           inp_embeddings=inp_embeddings_tensor)\n",
    "predict_position_result"
   ]
  },
  {
   "cell_type": "code",
   "execution_count": null,
   "metadata": {},
   "outputs": [],
   "source": [
    "target_pos = predict_position_result['position_sample']\n",
    "target_pos_tensor = tf.expand_dims(target_pos, axis=0)"
   ]
  },
  {
   "cell_type": "markdown",
   "metadata": {},
   "source": [
    "## Try predict_embedding signature"
   ]
  },
  {
   "cell_type": "code",
   "execution_count": 20,
   "metadata": {},
   "outputs": [
    {
     "data": {
      "text/plain": [
       "<ConcreteFunction signature_wrapper(inp_embeddings, inp_pos, target_pos) at 0x2E748ED10>"
      ]
     },
     "execution_count": 20,
     "metadata": {},
     "output_type": "execute_result"
    }
   ],
   "source": [
    "predict_embedding = model.signatures[\"predict_embedding\"]\n",
    "predict_embedding"
   ]
  },
  {
   "cell_type": "code",
   "execution_count": null,
   "metadata": {},
   "outputs": [],
   "source": [
    "predict_embedding_result = predict_embedding(inp_pos=inp_pos_tensor, \n",
    "                                             target_pos=target_pos_tensor,\n",
    "                                             inp_embeddings=inp_embeddings_tensor)\n",
    "predict_embedding_result"
   ]
  },
  {
   "cell_type": "markdown",
   "metadata": {},
   "source": [
    "## Try the decode_stroke signature"
   ]
  },
  {
   "cell_type": "code",
   "execution_count": 21,
   "metadata": {},
   "outputs": [
    {
     "data": {
      "text/plain": [
       "<ConcreteFunction signature_wrapper(embedding_sample, target_seq_len) at 0x2C5BCB290>"
      ]
     },
     "execution_count": 21,
     "metadata": {},
     "output_type": "execute_result"
    }
   ],
   "source": [
    "decode_stroke = model.signatures[\"decode_stroke\"]\n",
    "decode_stroke"
   ]
  },
  {
   "cell_type": "code",
   "execution_count": null,
   "metadata": {},
   "outputs": [],
   "source": [
    "# Use the (real) next stroke to determine the target_seq_len for the decoder\n",
    "target_seq_len_tensor = tf.convert_to_tensor(len(drawing_resampled[2]), dtype=tf.int32)\n",
    "\n",
    "decode_stroke_result = decode_stroke(embedding_sample = predict_embedding_result[\"embedding_sample\"],\n",
    "                                     target_seq_len = target_seq_len_tensor)\n",
    "\n",
    "decode_stroke_result[\"stroke\"]\n",
    "# This decoded stroke with pen state and stroke are used as the new input \n",
    "# for the encoder, whose starting position and embeddings will be used\n",
    "# for auto-regressive for the remaining stokes"
   ]
  },
  {
   "cell_type": "code",
   "execution_count": null,
   "metadata": {},
   "outputs": [],
   "source": [
    "decode_stroke_result['pen']"
   ]
  },
  {
   "cell_type": "markdown",
   "metadata": {},
   "source": [
    "# Random Try"
   ]
  },
  {
   "cell_type": "code",
   "execution_count": null,
   "metadata": {},
   "outputs": [],
   "source": [
    "# def process_drawing_for_encode_stroke(drawing):\n",
    "#     flat_strokes = []\n",
    "#     total_points = 0\n",
    "#     for stroke in drawing:\n",
    "#         for i in range(len(stroke[0])):  # Iterate through points in the stroke\n",
    "#             x = stroke[0][i]\n",
    "#             y = stroke[1][i]\n",
    "#             # Assuming the third list contains timing information, not directly used here\n",
    "#             # If there's a specific \"pen state\" value needed, adjust accordingly\n",
    "#             flat_strokes.append([x, y, 1])  # Use '1' as a placeholder for pen state\n",
    "#         total_points += len(stroke[0])\n",
    "    \n",
    "#     # Convert to tensors\n",
    "#     input_stroke = tf.constant(flat_strokes, dtype=tf.float32)\n",
    "#     input_seq_len = tf.constant([total_points], dtype=tf.int32)\n",
    "    \n",
    "#     return input_stroke, input_seq_len\n",
    "\n",
    "# # Find the maximum sequence length across all processed drawings\n",
    "# max_seq_len = max(input_stroke.shape[0] for input_stroke, _ in processed_drawings)\n",
    "\n",
    "# # Pad each drawing sequence to the maximum length\n",
    "# padded_drawings = []\n",
    "# for input_stroke, input_seq_len in processed_drawings:\n",
    "#     # Calculate the padding amounts\n",
    "#     padding = [[0, max_seq_len - tf.shape(input_stroke)[0]], [0, 0]]  # Pad the sequence length to max_seq_len\n",
    "    \n",
    "#     # Pad the stroke data\n",
    "#     padded_stroke = tf.pad(input_stroke, padding, \"CONSTANT\")\n",
    "    \n",
    "#     # Append the padded stroke and original sequence length\n",
    "#     padded_drawings.append((padded_stroke, input_seq_len))\n",
    "\n",
    "# padded_drawings\n",
    "\n",
    "# import json\n",
    "\n",
    "# processed_drawings = []\n",
    "\n",
    "# # Draw a sample of 320 sketches\n",
    "# max_rows = 320\n",
    "# current_row = 0\n",
    "\n",
    "# with open(\"data_dir/quick_draw/raw_Eiffel_Tower.ndjson\", 'r') as f:\n",
    "#     for line in f:\n",
    "#         if current_row < max_rows:\n",
    "#             drawing_data = json.loads(line)\n",
    "#             drawing = drawing_data[\"drawing\"]\n",
    "#             processed_drawing = process_drawing_for_encode_stroke(drawing)\n",
    "#             processed_drawings.append(processed_drawing)\n",
    "#             current_row += 1\n",
    "#         else:\n",
    "#             break\n",
    "# stroke_tensors = [x[0] for x in padded_drawings]\n",
    "# seq_len_tensors = [x[1] for x in padded_drawings]\n",
    "\n",
    "# stroke_dataset = tf.data.Dataset.from_tensor_slices(stroke_tensors)\n",
    "# seq_len_dataset = tf.data.Dataset.from_tensor_slices(seq_len_tensors)\n",
    "\n",
    "# # Combine into a single dataset\n",
    "# dataset = tf.data.Dataset.zip((stroke_dataset, seq_len_dataset))\n",
    "\n",
    "# dataset\n",
    "\n",
    "# # Set your desired batch size\n",
    "# batch_size = 128\n",
    "\n",
    "# # Batch the dataset. No need to specify padding values or shapes here because\n",
    "# # your tensors within each dataset element already have a uniform shape after padding.\n",
    "# batched_dataset = dataset.batch(batch_size)"
   ]
  },
  {
   "cell_type": "code",
   "execution_count": null,
   "metadata": {},
   "outputs": [],
   "source": [
    "# # Define the features of importance for input formatting\n",
    "# feature_description = {\n",
    "#     'ink': tf.io.VarLenFeature(tf.float32),\n",
    "# }\n",
    "\n",
    "# # For now, I use a very small sample of dataset\n",
    "# file_paths = \"data_dir/quick_draw/training/raw_Eiffel_Tower-00000-of-00010\"\n",
    "# dataset = tf.data.TFRecordDataset(file_paths)\n",
    "\n",
    "# # for raw_record in dataset.take(1):\n",
    "# #   example = tf.train.Example()\n",
    "# #   example.ParseFromString(raw_record.numpy())\n",
    "# #   print(example)\n",
    "\n",
    "# # Parse a Tensorflow Example proto \n",
    "# parsed_dataset = dataset.map(lambda x: tf.io.parse_single_example(x, feature_description)) \n",
    "\n",
    "# # Define a function to get the `input_seq_len` and `input_stroke` arguments \n",
    "# # for fitting the pretrained model (specifically, `encode_stroke` signature)\n",
    "# max_length_threshold = 201\n",
    "\n",
    "# def get_input_arguments(parsed_record):\n",
    "#     # Reshape and extract the first three dimensions from parsed_record['ink']\n",
    "#     # (x coordinate, y coordinate, and pen state)\n",
    "#     ink = tf.sparse.to_dense(parsed_record['ink'])\n",
    "#     input_seq_len = tf.shape(ink)[0] // 4\n",
    "#     ink_reshaped = tf.reshape(ink, (input_seq_len, 4))\n",
    "#     # Expand the input_stroke to three dimensions for batching \n",
    "#     input_stroke = tf.expand_dims(ink_reshaped[:, :3], axis=0)\n",
    "    \n",
    "#     # Make sure it matches the input shape \n",
    "#     input_seq_len = tf.reshape(input_seq_len, [1]) \n",
    "\n",
    "#     return input_seq_len, input_stroke\n",
    "    \n",
    "# preprocessed_dataset = parsed_dataset.map(get_input_arguments)"
   ]
  }
 ],
 "metadata": {
  "kernelspec": {
   "display_name": ".venv",
   "language": "python",
   "name": "python3"
  },
  "language_info": {
   "codemirror_mode": {
    "name": "ipython",
    "version": 3
   },
   "file_extension": ".py",
   "mimetype": "text/x-python",
   "name": "python",
   "nbconvert_exporter": "python",
   "pygments_lexer": "ipython3",
   "version": "3.11.4"
  }
 },
 "nbformat": 4,
 "nbformat_minor": 2
}
